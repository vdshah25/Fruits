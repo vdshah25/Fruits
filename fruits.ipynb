{
  "cells": [
    {
      "cell_type": "code",
      "execution_count": null,
      "metadata": {
        "colab": {
          "base_uri": "https://localhost:8080/"
        },
        "id": "yj_h1TR4wsEv",
        "outputId": "a5774039-d0b2-4bba-ed95-3d5072ba4452"
      },
      "outputs": [
        {
          "output_type": "stream",
          "name": "stdout",
          "text": [
            "Mounted at /content/drive\n"
          ]
        }
      ],
      "source": [
        "from google.colab import drive\n",
        "drive.mount('/content/drive')"
      ]
    },
    {
      "cell_type": "code",
      "execution_count": null,
      "metadata": {
        "id": "94-xjT_OzqWA",
        "colab": {
          "base_uri": "https://localhost:8080/"
        },
        "outputId": "73e1a9a1-9caf-43c0-a4f2-b7d8261a5ed3"
      },
      "outputs": [
        {
          "output_type": "stream",
          "name": "stdout",
          "text": [
            "TF version: 2.12.0\n",
            "TF Hub version: 0.13.0\n",
            "GPU not available\n"
          ]
        }
      ],
      "source": [
        "\n",
        "# Import TensorFlow 2.X. into Google Collab\n",
        "import tensorflow as tf\n",
        "print(\"TF version:\", tf.__version__)\n",
        "\n",
        "# Import Tensorflow Hub\n",
        "import tensorflow_hub as hub\n",
        "print(\"TF Hub version:\", hub.__version__)\n",
        "\n",
        "# Check for GPU availability\n",
        "print(\"GPU\", \"available\" if tf.config.list_physical_devices(\"GPU\") else \"not available\")"
      ]
    },
    {
      "cell_type": "code",
      "execution_count": null,
      "metadata": {
        "id": "aosgotzbyxWX"
      },
      "outputs": [],
      "source": [
        "import pandas as pd"
      ]
    },
    {
      "cell_type": "code",
      "execution_count": null,
      "metadata": {
        "colab": {
          "base_uri": "https://localhost:8080/",
          "height": 108
        },
        "id": "xIRQjZZby8xe",
        "outputId": "cadda35f-8aba-4ba6-f031-f76ef9d280a0"
      },
      "outputs": [
        {
          "output_type": "display_data",
          "data": {
            "text/plain": [
              "<IPython.core.display.HTML object>"
            ],
            "text/html": [
              "\n",
              "     <input type=\"file\" id=\"files-172f1b76-aeb2-41c1-8e5a-2d881332cc94\" name=\"files[]\" multiple disabled\n",
              "        style=\"border:none\" />\n",
              "     <output id=\"result-172f1b76-aeb2-41c1-8e5a-2d881332cc94\">\n",
              "      Upload widget is only available when the cell has been executed in the\n",
              "      current browser session. Please rerun this cell to enable.\n",
              "      </output>\n",
              "      <script>// Copyright 2017 Google LLC\n",
              "//\n",
              "// Licensed under the Apache License, Version 2.0 (the \"License\");\n",
              "// you may not use this file except in compliance with the License.\n",
              "// You may obtain a copy of the License at\n",
              "//\n",
              "//      http://www.apache.org/licenses/LICENSE-2.0\n",
              "//\n",
              "// Unless required by applicable law or agreed to in writing, software\n",
              "// distributed under the License is distributed on an \"AS IS\" BASIS,\n",
              "// WITHOUT WARRANTIES OR CONDITIONS OF ANY KIND, either express or implied.\n",
              "// See the License for the specific language governing permissions and\n",
              "// limitations under the License.\n",
              "\n",
              "/**\n",
              " * @fileoverview Helpers for google.colab Python module.\n",
              " */\n",
              "(function(scope) {\n",
              "function span(text, styleAttributes = {}) {\n",
              "  const element = document.createElement('span');\n",
              "  element.textContent = text;\n",
              "  for (const key of Object.keys(styleAttributes)) {\n",
              "    element.style[key] = styleAttributes[key];\n",
              "  }\n",
              "  return element;\n",
              "}\n",
              "\n",
              "// Max number of bytes which will be uploaded at a time.\n",
              "const MAX_PAYLOAD_SIZE = 100 * 1024;\n",
              "\n",
              "function _uploadFiles(inputId, outputId) {\n",
              "  const steps = uploadFilesStep(inputId, outputId);\n",
              "  const outputElement = document.getElementById(outputId);\n",
              "  // Cache steps on the outputElement to make it available for the next call\n",
              "  // to uploadFilesContinue from Python.\n",
              "  outputElement.steps = steps;\n",
              "\n",
              "  return _uploadFilesContinue(outputId);\n",
              "}\n",
              "\n",
              "// This is roughly an async generator (not supported in the browser yet),\n",
              "// where there are multiple asynchronous steps and the Python side is going\n",
              "// to poll for completion of each step.\n",
              "// This uses a Promise to block the python side on completion of each step,\n",
              "// then passes the result of the previous step as the input to the next step.\n",
              "function _uploadFilesContinue(outputId) {\n",
              "  const outputElement = document.getElementById(outputId);\n",
              "  const steps = outputElement.steps;\n",
              "\n",
              "  const next = steps.next(outputElement.lastPromiseValue);\n",
              "  return Promise.resolve(next.value.promise).then((value) => {\n",
              "    // Cache the last promise value to make it available to the next\n",
              "    // step of the generator.\n",
              "    outputElement.lastPromiseValue = value;\n",
              "    return next.value.response;\n",
              "  });\n",
              "}\n",
              "\n",
              "/**\n",
              " * Generator function which is called between each async step of the upload\n",
              " * process.\n",
              " * @param {string} inputId Element ID of the input file picker element.\n",
              " * @param {string} outputId Element ID of the output display.\n",
              " * @return {!Iterable<!Object>} Iterable of next steps.\n",
              " */\n",
              "function* uploadFilesStep(inputId, outputId) {\n",
              "  const inputElement = document.getElementById(inputId);\n",
              "  inputElement.disabled = false;\n",
              "\n",
              "  const outputElement = document.getElementById(outputId);\n",
              "  outputElement.innerHTML = '';\n",
              "\n",
              "  const pickedPromise = new Promise((resolve) => {\n",
              "    inputElement.addEventListener('change', (e) => {\n",
              "      resolve(e.target.files);\n",
              "    });\n",
              "  });\n",
              "\n",
              "  const cancel = document.createElement('button');\n",
              "  inputElement.parentElement.appendChild(cancel);\n",
              "  cancel.textContent = 'Cancel upload';\n",
              "  const cancelPromise = new Promise((resolve) => {\n",
              "    cancel.onclick = () => {\n",
              "      resolve(null);\n",
              "    };\n",
              "  });\n",
              "\n",
              "  // Wait for the user to pick the files.\n",
              "  const files = yield {\n",
              "    promise: Promise.race([pickedPromise, cancelPromise]),\n",
              "    response: {\n",
              "      action: 'starting',\n",
              "    }\n",
              "  };\n",
              "\n",
              "  cancel.remove();\n",
              "\n",
              "  // Disable the input element since further picks are not allowed.\n",
              "  inputElement.disabled = true;\n",
              "\n",
              "  if (!files) {\n",
              "    return {\n",
              "      response: {\n",
              "        action: 'complete',\n",
              "      }\n",
              "    };\n",
              "  }\n",
              "\n",
              "  for (const file of files) {\n",
              "    const li = document.createElement('li');\n",
              "    li.append(span(file.name, {fontWeight: 'bold'}));\n",
              "    li.append(span(\n",
              "        `(${file.type || 'n/a'}) - ${file.size} bytes, ` +\n",
              "        `last modified: ${\n",
              "            file.lastModifiedDate ? file.lastModifiedDate.toLocaleDateString() :\n",
              "                                    'n/a'} - `));\n",
              "    const percent = span('0% done');\n",
              "    li.appendChild(percent);\n",
              "\n",
              "    outputElement.appendChild(li);\n",
              "\n",
              "    const fileDataPromise = new Promise((resolve) => {\n",
              "      const reader = new FileReader();\n",
              "      reader.onload = (e) => {\n",
              "        resolve(e.target.result);\n",
              "      };\n",
              "      reader.readAsArrayBuffer(file);\n",
              "    });\n",
              "    // Wait for the data to be ready.\n",
              "    let fileData = yield {\n",
              "      promise: fileDataPromise,\n",
              "      response: {\n",
              "        action: 'continue',\n",
              "      }\n",
              "    };\n",
              "\n",
              "    // Use a chunked sending to avoid message size limits. See b/62115660.\n",
              "    let position = 0;\n",
              "    do {\n",
              "      const length = Math.min(fileData.byteLength - position, MAX_PAYLOAD_SIZE);\n",
              "      const chunk = new Uint8Array(fileData, position, length);\n",
              "      position += length;\n",
              "\n",
              "      const base64 = btoa(String.fromCharCode.apply(null, chunk));\n",
              "      yield {\n",
              "        response: {\n",
              "          action: 'append',\n",
              "          file: file.name,\n",
              "          data: base64,\n",
              "        },\n",
              "      };\n",
              "\n",
              "      let percentDone = fileData.byteLength === 0 ?\n",
              "          100 :\n",
              "          Math.round((position / fileData.byteLength) * 100);\n",
              "      percent.textContent = `${percentDone}% done`;\n",
              "\n",
              "    } while (position < fileData.byteLength);\n",
              "  }\n",
              "\n",
              "  // All done.\n",
              "  yield {\n",
              "    response: {\n",
              "      action: 'complete',\n",
              "    }\n",
              "  };\n",
              "}\n",
              "\n",
              "scope.google = scope.google || {};\n",
              "scope.google.colab = scope.google.colab || {};\n",
              "scope.google.colab._files = {\n",
              "  _uploadFiles,\n",
              "  _uploadFilesContinue,\n",
              "};\n",
              "})(self);\n",
              "</script> "
            ]
          },
          "metadata": {}
        },
        {
          "output_type": "stream",
          "name": "stdout",
          "text": [
            "Saving classes.csv to classes.csv\n",
            "Saving test.csv to test.csv\n"
          ]
        }
      ],
      "source": [
        "from google.colab import files\n",
        "uploaded = files.upload()"
      ]
    },
    {
      "cell_type": "code",
      "execution_count": null,
      "metadata": {
        "id": "0MJI2iehlal0",
        "colab": {
          "base_uri": "https://localhost:8080/"
        },
        "outputId": "3378813e-5626-44d2-d56c-fe4cd0f2f8ff"
      },
      "outputs": [
        {
          "output_type": "stream",
          "name": "stdout",
          "text": [
            "       label                            ID\n",
            "0     Fungal                  DSC_7777.jpg\n",
            "1     Fungal                  DSC_5994.jpg\n",
            "2     Fungal                  DSC_5976.jpg\n",
            "3     Fungal                  IMG_5604.jpg\n",
            "4     Fungal                  DSC_7781.jpg\n",
            "..       ...                           ...\n",
            "372  Healthy       IMG-20170717-WA0039.jpg\n",
            "373  Healthy       IMG-20170717-WA0042.jpg\n",
            "374  Healthy       IMG-20170813-WA0060.jpg\n",
            "375  Healthy  WP_20150828_09_55_13_Pro.jpg\n",
            "376  Healthy  WP_20150828_10_01_42_Pro.jpg\n",
            "\n",
            "[377 rows x 2 columns]\n"
          ]
        }
      ],
      "source": [
        "import pandas as pd\n",
        "import io\n",
        "\n",
        "df = pd.read_csv(io.BytesIO(uploaded['classes.csv']))\n",
        "print(df)\n"
      ]
    },
    {
      "cell_type": "code",
      "source": [
        "test = pd.read_csv(io.BytesIO(uploaded['test.csv']))"
      ],
      "metadata": {
        "id": "OcJre49jt57J"
      },
      "execution_count": null,
      "outputs": []
    },
    {
      "cell_type": "code",
      "source": [],
      "metadata": {
        "id": "n2COaJODuDHQ"
      },
      "execution_count": null,
      "outputs": []
    },
    {
      "cell_type": "code",
      "execution_count": null,
      "metadata": {
        "id": "aFSDIg_PzWX8",
        "colab": {
          "base_uri": "https://localhost:8080/",
          "height": 423
        },
        "outputId": "78c2f405-201a-451e-91e0-901f3323d369"
      },
      "outputs": [
        {
          "output_type": "execute_result",
          "data": {
            "text/plain": [
              "       label                            ID\n",
              "296  Healthy          Copy of DSC09556.jpg\n",
              "297  Healthy          Copy of DSC_9608.jpg\n",
              "298  Healthy          Copy of DSC_9606.jpg\n",
              "299  Healthy          Copy of DSC_9229.jpg\n",
              "300  Healthy          Copy of DSC_5938.jpg\n",
              "..       ...                           ...\n",
              "372  Healthy       IMG-20170717-WA0039.jpg\n",
              "373  Healthy       IMG-20170717-WA0042.jpg\n",
              "374  Healthy       IMG-20170813-WA0060.jpg\n",
              "375  Healthy  WP_20150828_09_55_13_Pro.jpg\n",
              "376  Healthy  WP_20150828_10_01_42_Pro.jpg\n",
              "\n",
              "[81 rows x 2 columns]"
            ],
            "text/html": [
              "\n",
              "  <div id=\"df-c37c4ad0-cd72-4443-b6a5-d737d1c47226\">\n",
              "    <div class=\"colab-df-container\">\n",
              "      <div>\n",
              "<style scoped>\n",
              "    .dataframe tbody tr th:only-of-type {\n",
              "        vertical-align: middle;\n",
              "    }\n",
              "\n",
              "    .dataframe tbody tr th {\n",
              "        vertical-align: top;\n",
              "    }\n",
              "\n",
              "    .dataframe thead th {\n",
              "        text-align: right;\n",
              "    }\n",
              "</style>\n",
              "<table border=\"1\" class=\"dataframe\">\n",
              "  <thead>\n",
              "    <tr style=\"text-align: right;\">\n",
              "      <th></th>\n",
              "      <th>label</th>\n",
              "      <th>ID</th>\n",
              "    </tr>\n",
              "  </thead>\n",
              "  <tbody>\n",
              "    <tr>\n",
              "      <th>296</th>\n",
              "      <td>Healthy</td>\n",
              "      <td>Copy of DSC09556.jpg</td>\n",
              "    </tr>\n",
              "    <tr>\n",
              "      <th>297</th>\n",
              "      <td>Healthy</td>\n",
              "      <td>Copy of DSC_9608.jpg</td>\n",
              "    </tr>\n",
              "    <tr>\n",
              "      <th>298</th>\n",
              "      <td>Healthy</td>\n",
              "      <td>Copy of DSC_9606.jpg</td>\n",
              "    </tr>\n",
              "    <tr>\n",
              "      <th>299</th>\n",
              "      <td>Healthy</td>\n",
              "      <td>Copy of DSC_9229.jpg</td>\n",
              "    </tr>\n",
              "    <tr>\n",
              "      <th>300</th>\n",
              "      <td>Healthy</td>\n",
              "      <td>Copy of DSC_5938.jpg</td>\n",
              "    </tr>\n",
              "    <tr>\n",
              "      <th>...</th>\n",
              "      <td>...</td>\n",
              "      <td>...</td>\n",
              "    </tr>\n",
              "    <tr>\n",
              "      <th>372</th>\n",
              "      <td>Healthy</td>\n",
              "      <td>IMG-20170717-WA0039.jpg</td>\n",
              "    </tr>\n",
              "    <tr>\n",
              "      <th>373</th>\n",
              "      <td>Healthy</td>\n",
              "      <td>IMG-20170717-WA0042.jpg</td>\n",
              "    </tr>\n",
              "    <tr>\n",
              "      <th>374</th>\n",
              "      <td>Healthy</td>\n",
              "      <td>IMG-20170813-WA0060.jpg</td>\n",
              "    </tr>\n",
              "    <tr>\n",
              "      <th>375</th>\n",
              "      <td>Healthy</td>\n",
              "      <td>WP_20150828_09_55_13_Pro.jpg</td>\n",
              "    </tr>\n",
              "    <tr>\n",
              "      <th>376</th>\n",
              "      <td>Healthy</td>\n",
              "      <td>WP_20150828_10_01_42_Pro.jpg</td>\n",
              "    </tr>\n",
              "  </tbody>\n",
              "</table>\n",
              "<p>81 rows × 2 columns</p>\n",
              "</div>\n",
              "      <button class=\"colab-df-convert\" onclick=\"convertToInteractive('df-c37c4ad0-cd72-4443-b6a5-d737d1c47226')\"\n",
              "              title=\"Convert this dataframe to an interactive table.\"\n",
              "              style=\"display:none;\">\n",
              "        \n",
              "  <svg xmlns=\"http://www.w3.org/2000/svg\" height=\"24px\"viewBox=\"0 0 24 24\"\n",
              "       width=\"24px\">\n",
              "    <path d=\"M0 0h24v24H0V0z\" fill=\"none\"/>\n",
              "    <path d=\"M18.56 5.44l.94 2.06.94-2.06 2.06-.94-2.06-.94-.94-2.06-.94 2.06-2.06.94zm-11 1L8.5 8.5l.94-2.06 2.06-.94-2.06-.94L8.5 2.5l-.94 2.06-2.06.94zm10 10l.94 2.06.94-2.06 2.06-.94-2.06-.94-.94-2.06-.94 2.06-2.06.94z\"/><path d=\"M17.41 7.96l-1.37-1.37c-.4-.4-.92-.59-1.43-.59-.52 0-1.04.2-1.43.59L10.3 9.45l-7.72 7.72c-.78.78-.78 2.05 0 2.83L4 21.41c.39.39.9.59 1.41.59.51 0 1.02-.2 1.41-.59l7.78-7.78 2.81-2.81c.8-.78.8-2.07 0-2.86zM5.41 20L4 18.59l7.72-7.72 1.47 1.35L5.41 20z\"/>\n",
              "  </svg>\n",
              "      </button>\n",
              "      \n",
              "  <style>\n",
              "    .colab-df-container {\n",
              "      display:flex;\n",
              "      flex-wrap:wrap;\n",
              "      gap: 12px;\n",
              "    }\n",
              "\n",
              "    .colab-df-convert {\n",
              "      background-color: #E8F0FE;\n",
              "      border: none;\n",
              "      border-radius: 50%;\n",
              "      cursor: pointer;\n",
              "      display: none;\n",
              "      fill: #1967D2;\n",
              "      height: 32px;\n",
              "      padding: 0 0 0 0;\n",
              "      width: 32px;\n",
              "    }\n",
              "\n",
              "    .colab-df-convert:hover {\n",
              "      background-color: #E2EBFA;\n",
              "      box-shadow: 0px 1px 2px rgba(60, 64, 67, 0.3), 0px 1px 3px 1px rgba(60, 64, 67, 0.15);\n",
              "      fill: #174EA6;\n",
              "    }\n",
              "\n",
              "    [theme=dark] .colab-df-convert {\n",
              "      background-color: #3B4455;\n",
              "      fill: #D2E3FC;\n",
              "    }\n",
              "\n",
              "    [theme=dark] .colab-df-convert:hover {\n",
              "      background-color: #434B5C;\n",
              "      box-shadow: 0px 1px 3px 1px rgba(0, 0, 0, 0.15);\n",
              "      filter: drop-shadow(0px 1px 2px rgba(0, 0, 0, 0.3));\n",
              "      fill: #FFFFFF;\n",
              "    }\n",
              "  </style>\n",
              "\n",
              "      <script>\n",
              "        const buttonEl =\n",
              "          document.querySelector('#df-c37c4ad0-cd72-4443-b6a5-d737d1c47226 button.colab-df-convert');\n",
              "        buttonEl.style.display =\n",
              "          google.colab.kernel.accessAllowed ? 'block' : 'none';\n",
              "\n",
              "        async function convertToInteractive(key) {\n",
              "          const element = document.querySelector('#df-c37c4ad0-cd72-4443-b6a5-d737d1c47226');\n",
              "          const dataTable =\n",
              "            await google.colab.kernel.invokeFunction('convertToInteractive',\n",
              "                                                     [key], {});\n",
              "          if (!dataTable) return;\n",
              "\n",
              "          const docLinkHtml = 'Like what you see? Visit the ' +\n",
              "            '<a target=\"_blank\" href=https://colab.research.google.com/notebooks/data_table.ipynb>data table notebook</a>'\n",
              "            + ' to learn more about interactive tables.';\n",
              "          element.innerHTML = '';\n",
              "          dataTable['output_type'] = 'display_data';\n",
              "          await google.colab.output.renderOutput(dataTable, element);\n",
              "          const docLink = document.createElement('div');\n",
              "          docLink.innerHTML = docLinkHtml;\n",
              "          element.appendChild(docLink);\n",
              "        }\n",
              "      </script>\n",
              "    </div>\n",
              "  </div>\n",
              "  "
            ]
          },
          "metadata": {},
          "execution_count": 8
        }
      ],
      "source": [
        "df_healthy=df.loc[df['label']=='Healthy']\n",
        "df_healthy"
      ]
    },
    {
      "cell_type": "code",
      "execution_count": null,
      "metadata": {
        "id": "z-lwLrTo0CZK",
        "colab": {
          "base_uri": "https://localhost:8080/",
          "height": 423
        },
        "outputId": "f09e29e7-c045-47c1-bf92-8296261f1ccb"
      },
      "outputs": [
        {
          "output_type": "execute_result",
          "data": {
            "text/plain": [
              "      label            ID\n",
              "0    Fungal  DSC_7777.jpg\n",
              "1    Fungal  DSC_5994.jpg\n",
              "2    Fungal  DSC_5976.jpg\n",
              "3    Fungal  IMG_5604.jpg\n",
              "4    Fungal  DSC_7781.jpg\n",
              "..      ...           ...\n",
              "163  Fungal  DSC_0038.jpg\n",
              "164  Fungal  DSC_0033.jpg\n",
              "165  Fungal         7.jpg\n",
              "166  Fungal         5.jpg\n",
              "167  Fungal     1  C1.jpg\n",
              "\n",
              "[168 rows x 2 columns]"
            ],
            "text/html": [
              "\n",
              "  <div id=\"df-29771b5d-50a4-4960-9825-972875362e91\">\n",
              "    <div class=\"colab-df-container\">\n",
              "      <div>\n",
              "<style scoped>\n",
              "    .dataframe tbody tr th:only-of-type {\n",
              "        vertical-align: middle;\n",
              "    }\n",
              "\n",
              "    .dataframe tbody tr th {\n",
              "        vertical-align: top;\n",
              "    }\n",
              "\n",
              "    .dataframe thead th {\n",
              "        text-align: right;\n",
              "    }\n",
              "</style>\n",
              "<table border=\"1\" class=\"dataframe\">\n",
              "  <thead>\n",
              "    <tr style=\"text-align: right;\">\n",
              "      <th></th>\n",
              "      <th>label</th>\n",
              "      <th>ID</th>\n",
              "    </tr>\n",
              "  </thead>\n",
              "  <tbody>\n",
              "    <tr>\n",
              "      <th>0</th>\n",
              "      <td>Fungal</td>\n",
              "      <td>DSC_7777.jpg</td>\n",
              "    </tr>\n",
              "    <tr>\n",
              "      <th>1</th>\n",
              "      <td>Fungal</td>\n",
              "      <td>DSC_5994.jpg</td>\n",
              "    </tr>\n",
              "    <tr>\n",
              "      <th>2</th>\n",
              "      <td>Fungal</td>\n",
              "      <td>DSC_5976.jpg</td>\n",
              "    </tr>\n",
              "    <tr>\n",
              "      <th>3</th>\n",
              "      <td>Fungal</td>\n",
              "      <td>IMG_5604.jpg</td>\n",
              "    </tr>\n",
              "    <tr>\n",
              "      <th>4</th>\n",
              "      <td>Fungal</td>\n",
              "      <td>DSC_7781.jpg</td>\n",
              "    </tr>\n",
              "    <tr>\n",
              "      <th>...</th>\n",
              "      <td>...</td>\n",
              "      <td>...</td>\n",
              "    </tr>\n",
              "    <tr>\n",
              "      <th>163</th>\n",
              "      <td>Fungal</td>\n",
              "      <td>DSC_0038.jpg</td>\n",
              "    </tr>\n",
              "    <tr>\n",
              "      <th>164</th>\n",
              "      <td>Fungal</td>\n",
              "      <td>DSC_0033.jpg</td>\n",
              "    </tr>\n",
              "    <tr>\n",
              "      <th>165</th>\n",
              "      <td>Fungal</td>\n",
              "      <td>7.jpg</td>\n",
              "    </tr>\n",
              "    <tr>\n",
              "      <th>166</th>\n",
              "      <td>Fungal</td>\n",
              "      <td>5.jpg</td>\n",
              "    </tr>\n",
              "    <tr>\n",
              "      <th>167</th>\n",
              "      <td>Fungal</td>\n",
              "      <td>1  C1.jpg</td>\n",
              "    </tr>\n",
              "  </tbody>\n",
              "</table>\n",
              "<p>168 rows × 2 columns</p>\n",
              "</div>\n",
              "      <button class=\"colab-df-convert\" onclick=\"convertToInteractive('df-29771b5d-50a4-4960-9825-972875362e91')\"\n",
              "              title=\"Convert this dataframe to an interactive table.\"\n",
              "              style=\"display:none;\">\n",
              "        \n",
              "  <svg xmlns=\"http://www.w3.org/2000/svg\" height=\"24px\"viewBox=\"0 0 24 24\"\n",
              "       width=\"24px\">\n",
              "    <path d=\"M0 0h24v24H0V0z\" fill=\"none\"/>\n",
              "    <path d=\"M18.56 5.44l.94 2.06.94-2.06 2.06-.94-2.06-.94-.94-2.06-.94 2.06-2.06.94zm-11 1L8.5 8.5l.94-2.06 2.06-.94-2.06-.94L8.5 2.5l-.94 2.06-2.06.94zm10 10l.94 2.06.94-2.06 2.06-.94-2.06-.94-.94-2.06-.94 2.06-2.06.94z\"/><path d=\"M17.41 7.96l-1.37-1.37c-.4-.4-.92-.59-1.43-.59-.52 0-1.04.2-1.43.59L10.3 9.45l-7.72 7.72c-.78.78-.78 2.05 0 2.83L4 21.41c.39.39.9.59 1.41.59.51 0 1.02-.2 1.41-.59l7.78-7.78 2.81-2.81c.8-.78.8-2.07 0-2.86zM5.41 20L4 18.59l7.72-7.72 1.47 1.35L5.41 20z\"/>\n",
              "  </svg>\n",
              "      </button>\n",
              "      \n",
              "  <style>\n",
              "    .colab-df-container {\n",
              "      display:flex;\n",
              "      flex-wrap:wrap;\n",
              "      gap: 12px;\n",
              "    }\n",
              "\n",
              "    .colab-df-convert {\n",
              "      background-color: #E8F0FE;\n",
              "      border: none;\n",
              "      border-radius: 50%;\n",
              "      cursor: pointer;\n",
              "      display: none;\n",
              "      fill: #1967D2;\n",
              "      height: 32px;\n",
              "      padding: 0 0 0 0;\n",
              "      width: 32px;\n",
              "    }\n",
              "\n",
              "    .colab-df-convert:hover {\n",
              "      background-color: #E2EBFA;\n",
              "      box-shadow: 0px 1px 2px rgba(60, 64, 67, 0.3), 0px 1px 3px 1px rgba(60, 64, 67, 0.15);\n",
              "      fill: #174EA6;\n",
              "    }\n",
              "\n",
              "    [theme=dark] .colab-df-convert {\n",
              "      background-color: #3B4455;\n",
              "      fill: #D2E3FC;\n",
              "    }\n",
              "\n",
              "    [theme=dark] .colab-df-convert:hover {\n",
              "      background-color: #434B5C;\n",
              "      box-shadow: 0px 1px 3px 1px rgba(0, 0, 0, 0.15);\n",
              "      filter: drop-shadow(0px 1px 2px rgba(0, 0, 0, 0.3));\n",
              "      fill: #FFFFFF;\n",
              "    }\n",
              "  </style>\n",
              "\n",
              "      <script>\n",
              "        const buttonEl =\n",
              "          document.querySelector('#df-29771b5d-50a4-4960-9825-972875362e91 button.colab-df-convert');\n",
              "        buttonEl.style.display =\n",
              "          google.colab.kernel.accessAllowed ? 'block' : 'none';\n",
              "\n",
              "        async function convertToInteractive(key) {\n",
              "          const element = document.querySelector('#df-29771b5d-50a4-4960-9825-972875362e91');\n",
              "          const dataTable =\n",
              "            await google.colab.kernel.invokeFunction('convertToInteractive',\n",
              "                                                     [key], {});\n",
              "          if (!dataTable) return;\n",
              "\n",
              "          const docLinkHtml = 'Like what you see? Visit the ' +\n",
              "            '<a target=\"_blank\" href=https://colab.research.google.com/notebooks/data_table.ipynb>data table notebook</a>'\n",
              "            + ' to learn more about interactive tables.';\n",
              "          element.innerHTML = '';\n",
              "          dataTable['output_type'] = 'display_data';\n",
              "          await google.colab.output.renderOutput(dataTable, element);\n",
              "          const docLink = document.createElement('div');\n",
              "          docLink.innerHTML = docLinkHtml;\n",
              "          element.appendChild(docLink);\n",
              "        }\n",
              "      </script>\n",
              "    </div>\n",
              "  </div>\n",
              "  "
            ]
          },
          "metadata": {},
          "execution_count": 9
        }
      ],
      "source": [
        "df_fungal=df.loc[df['label']=='Fungal']\n",
        "df_fungal"
      ]
    },
    {
      "cell_type": "code",
      "execution_count": null,
      "metadata": {
        "id": "cpel-IbF0DBu",
        "colab": {
          "base_uri": "https://localhost:8080/",
          "height": 423
        },
        "outputId": "a4d98c25-280b-41a2-b048-b72d4c378706"
      },
      "outputs": [
        {
          "output_type": "execute_result",
          "data": {
            "text/plain": [
              "         label            ID\n",
              "168  Bacterial  DSC_4306.jpg\n",
              "169  Bacterial  DSC_4305.jpg\n",
              "170  Bacterial  DSC_4304.jpg\n",
              "171  Bacterial  DSC_4303.jpg\n",
              "172  Bacterial  DSC_4302.jpg\n",
              "..         ...           ...\n",
              "291  Bacterial  DSCN9787.jpg\n",
              "292  Bacterial  DSCN9788.jpg\n",
              "293  Bacterial  DSCN9815.jpg\n",
              "294  Bacterial  DSCN9816.jpg\n",
              "295  Bacterial  IMG_5696.jpg\n",
              "\n",
              "[128 rows x 2 columns]"
            ],
            "text/html": [
              "\n",
              "  <div id=\"df-a18614a3-72c3-49ff-a6a8-1e6380f65721\">\n",
              "    <div class=\"colab-df-container\">\n",
              "      <div>\n",
              "<style scoped>\n",
              "    .dataframe tbody tr th:only-of-type {\n",
              "        vertical-align: middle;\n",
              "    }\n",
              "\n",
              "    .dataframe tbody tr th {\n",
              "        vertical-align: top;\n",
              "    }\n",
              "\n",
              "    .dataframe thead th {\n",
              "        text-align: right;\n",
              "    }\n",
              "</style>\n",
              "<table border=\"1\" class=\"dataframe\">\n",
              "  <thead>\n",
              "    <tr style=\"text-align: right;\">\n",
              "      <th></th>\n",
              "      <th>label</th>\n",
              "      <th>ID</th>\n",
              "    </tr>\n",
              "  </thead>\n",
              "  <tbody>\n",
              "    <tr>\n",
              "      <th>168</th>\n",
              "      <td>Bacterial</td>\n",
              "      <td>DSC_4306.jpg</td>\n",
              "    </tr>\n",
              "    <tr>\n",
              "      <th>169</th>\n",
              "      <td>Bacterial</td>\n",
              "      <td>DSC_4305.jpg</td>\n",
              "    </tr>\n",
              "    <tr>\n",
              "      <th>170</th>\n",
              "      <td>Bacterial</td>\n",
              "      <td>DSC_4304.jpg</td>\n",
              "    </tr>\n",
              "    <tr>\n",
              "      <th>171</th>\n",
              "      <td>Bacterial</td>\n",
              "      <td>DSC_4303.jpg</td>\n",
              "    </tr>\n",
              "    <tr>\n",
              "      <th>172</th>\n",
              "      <td>Bacterial</td>\n",
              "      <td>DSC_4302.jpg</td>\n",
              "    </tr>\n",
              "    <tr>\n",
              "      <th>...</th>\n",
              "      <td>...</td>\n",
              "      <td>...</td>\n",
              "    </tr>\n",
              "    <tr>\n",
              "      <th>291</th>\n",
              "      <td>Bacterial</td>\n",
              "      <td>DSCN9787.jpg</td>\n",
              "    </tr>\n",
              "    <tr>\n",
              "      <th>292</th>\n",
              "      <td>Bacterial</td>\n",
              "      <td>DSCN9788.jpg</td>\n",
              "    </tr>\n",
              "    <tr>\n",
              "      <th>293</th>\n",
              "      <td>Bacterial</td>\n",
              "      <td>DSCN9815.jpg</td>\n",
              "    </tr>\n",
              "    <tr>\n",
              "      <th>294</th>\n",
              "      <td>Bacterial</td>\n",
              "      <td>DSCN9816.jpg</td>\n",
              "    </tr>\n",
              "    <tr>\n",
              "      <th>295</th>\n",
              "      <td>Bacterial</td>\n",
              "      <td>IMG_5696.jpg</td>\n",
              "    </tr>\n",
              "  </tbody>\n",
              "</table>\n",
              "<p>128 rows × 2 columns</p>\n",
              "</div>\n",
              "      <button class=\"colab-df-convert\" onclick=\"convertToInteractive('df-a18614a3-72c3-49ff-a6a8-1e6380f65721')\"\n",
              "              title=\"Convert this dataframe to an interactive table.\"\n",
              "              style=\"display:none;\">\n",
              "        \n",
              "  <svg xmlns=\"http://www.w3.org/2000/svg\" height=\"24px\"viewBox=\"0 0 24 24\"\n",
              "       width=\"24px\">\n",
              "    <path d=\"M0 0h24v24H0V0z\" fill=\"none\"/>\n",
              "    <path d=\"M18.56 5.44l.94 2.06.94-2.06 2.06-.94-2.06-.94-.94-2.06-.94 2.06-2.06.94zm-11 1L8.5 8.5l.94-2.06 2.06-.94-2.06-.94L8.5 2.5l-.94 2.06-2.06.94zm10 10l.94 2.06.94-2.06 2.06-.94-2.06-.94-.94-2.06-.94 2.06-2.06.94z\"/><path d=\"M17.41 7.96l-1.37-1.37c-.4-.4-.92-.59-1.43-.59-.52 0-1.04.2-1.43.59L10.3 9.45l-7.72 7.72c-.78.78-.78 2.05 0 2.83L4 21.41c.39.39.9.59 1.41.59.51 0 1.02-.2 1.41-.59l7.78-7.78 2.81-2.81c.8-.78.8-2.07 0-2.86zM5.41 20L4 18.59l7.72-7.72 1.47 1.35L5.41 20z\"/>\n",
              "  </svg>\n",
              "      </button>\n",
              "      \n",
              "  <style>\n",
              "    .colab-df-container {\n",
              "      display:flex;\n",
              "      flex-wrap:wrap;\n",
              "      gap: 12px;\n",
              "    }\n",
              "\n",
              "    .colab-df-convert {\n",
              "      background-color: #E8F0FE;\n",
              "      border: none;\n",
              "      border-radius: 50%;\n",
              "      cursor: pointer;\n",
              "      display: none;\n",
              "      fill: #1967D2;\n",
              "      height: 32px;\n",
              "      padding: 0 0 0 0;\n",
              "      width: 32px;\n",
              "    }\n",
              "\n",
              "    .colab-df-convert:hover {\n",
              "      background-color: #E2EBFA;\n",
              "      box-shadow: 0px 1px 2px rgba(60, 64, 67, 0.3), 0px 1px 3px 1px rgba(60, 64, 67, 0.15);\n",
              "      fill: #174EA6;\n",
              "    }\n",
              "\n",
              "    [theme=dark] .colab-df-convert {\n",
              "      background-color: #3B4455;\n",
              "      fill: #D2E3FC;\n",
              "    }\n",
              "\n",
              "    [theme=dark] .colab-df-convert:hover {\n",
              "      background-color: #434B5C;\n",
              "      box-shadow: 0px 1px 3px 1px rgba(0, 0, 0, 0.15);\n",
              "      filter: drop-shadow(0px 1px 2px rgba(0, 0, 0, 0.3));\n",
              "      fill: #FFFFFF;\n",
              "    }\n",
              "  </style>\n",
              "\n",
              "      <script>\n",
              "        const buttonEl =\n",
              "          document.querySelector('#df-a18614a3-72c3-49ff-a6a8-1e6380f65721 button.colab-df-convert');\n",
              "        buttonEl.style.display =\n",
              "          google.colab.kernel.accessAllowed ? 'block' : 'none';\n",
              "\n",
              "        async function convertToInteractive(key) {\n",
              "          const element = document.querySelector('#df-a18614a3-72c3-49ff-a6a8-1e6380f65721');\n",
              "          const dataTable =\n",
              "            await google.colab.kernel.invokeFunction('convertToInteractive',\n",
              "                                                     [key], {});\n",
              "          if (!dataTable) return;\n",
              "\n",
              "          const docLinkHtml = 'Like what you see? Visit the ' +\n",
              "            '<a target=\"_blank\" href=https://colab.research.google.com/notebooks/data_table.ipynb>data table notebook</a>'\n",
              "            + ' to learn more about interactive tables.';\n",
              "          element.innerHTML = '';\n",
              "          dataTable['output_type'] = 'display_data';\n",
              "          await google.colab.output.renderOutput(dataTable, element);\n",
              "          const docLink = document.createElement('div');\n",
              "          docLink.innerHTML = docLinkHtml;\n",
              "          element.appendChild(docLink);\n",
              "        }\n",
              "      </script>\n",
              "    </div>\n",
              "  </div>\n",
              "  "
            ]
          },
          "metadata": {},
          "execution_count": 10
        }
      ],
      "source": [
        "df_bacterial=df.loc[df['label']=='Bacterial']\n",
        "df_bacterial"
      ]
    },
    {
      "cell_type": "code",
      "source": [
        "test_healthy=test.loc[test['label']=='Healthy']\n",
        "test_healthy"
      ],
      "metadata": {
        "colab": {
          "base_uri": "https://localhost:8080/",
          "height": 363
        },
        "id": "dqq6GrUBvJot",
        "outputId": "95efd951-30c4-474d-c18e-655c296c32d4"
      },
      "execution_count": null,
      "outputs": [
        {
          "output_type": "execute_result",
          "data": {
            "text/plain": [
              "      label                       ID\n",
              "32  Healthy     Copy of DSC_1986.jpg\n",
              "33  Healthy     Copy of DSC_1985.jpg\n",
              "34  Healthy     Copy of DSC_1983.jpg\n",
              "35  Healthy     Copy of DSC_1982.jpg\n",
              "36  Healthy     Copy of DSC_1981.jpg\n",
              "37  Healthy  IMG-20160108-WA0006.jpg\n",
              "38  Healthy  IMG-20160108-WA0009.jpg\n",
              "39  Healthy  IMG-20160108-WA0010.jpg\n",
              "40  Healthy  IMG-20160108-WA0011.jpg\n",
              "41  Healthy  IMG-20160108-WA0019.jpg"
            ],
            "text/html": [
              "\n",
              "  <div id=\"df-0b2be5e2-307e-4d8f-85f8-b4f32ab76e83\">\n",
              "    <div class=\"colab-df-container\">\n",
              "      <div>\n",
              "<style scoped>\n",
              "    .dataframe tbody tr th:only-of-type {\n",
              "        vertical-align: middle;\n",
              "    }\n",
              "\n",
              "    .dataframe tbody tr th {\n",
              "        vertical-align: top;\n",
              "    }\n",
              "\n",
              "    .dataframe thead th {\n",
              "        text-align: right;\n",
              "    }\n",
              "</style>\n",
              "<table border=\"1\" class=\"dataframe\">\n",
              "  <thead>\n",
              "    <tr style=\"text-align: right;\">\n",
              "      <th></th>\n",
              "      <th>label</th>\n",
              "      <th>ID</th>\n",
              "    </tr>\n",
              "  </thead>\n",
              "  <tbody>\n",
              "    <tr>\n",
              "      <th>32</th>\n",
              "      <td>Healthy</td>\n",
              "      <td>Copy of DSC_1986.jpg</td>\n",
              "    </tr>\n",
              "    <tr>\n",
              "      <th>33</th>\n",
              "      <td>Healthy</td>\n",
              "      <td>Copy of DSC_1985.jpg</td>\n",
              "    </tr>\n",
              "    <tr>\n",
              "      <th>34</th>\n",
              "      <td>Healthy</td>\n",
              "      <td>Copy of DSC_1983.jpg</td>\n",
              "    </tr>\n",
              "    <tr>\n",
              "      <th>35</th>\n",
              "      <td>Healthy</td>\n",
              "      <td>Copy of DSC_1982.jpg</td>\n",
              "    </tr>\n",
              "    <tr>\n",
              "      <th>36</th>\n",
              "      <td>Healthy</td>\n",
              "      <td>Copy of DSC_1981.jpg</td>\n",
              "    </tr>\n",
              "    <tr>\n",
              "      <th>37</th>\n",
              "      <td>Healthy</td>\n",
              "      <td>IMG-20160108-WA0006.jpg</td>\n",
              "    </tr>\n",
              "    <tr>\n",
              "      <th>38</th>\n",
              "      <td>Healthy</td>\n",
              "      <td>IMG-20160108-WA0009.jpg</td>\n",
              "    </tr>\n",
              "    <tr>\n",
              "      <th>39</th>\n",
              "      <td>Healthy</td>\n",
              "      <td>IMG-20160108-WA0010.jpg</td>\n",
              "    </tr>\n",
              "    <tr>\n",
              "      <th>40</th>\n",
              "      <td>Healthy</td>\n",
              "      <td>IMG-20160108-WA0011.jpg</td>\n",
              "    </tr>\n",
              "    <tr>\n",
              "      <th>41</th>\n",
              "      <td>Healthy</td>\n",
              "      <td>IMG-20160108-WA0019.jpg</td>\n",
              "    </tr>\n",
              "  </tbody>\n",
              "</table>\n",
              "</div>\n",
              "      <button class=\"colab-df-convert\" onclick=\"convertToInteractive('df-0b2be5e2-307e-4d8f-85f8-b4f32ab76e83')\"\n",
              "              title=\"Convert this dataframe to an interactive table.\"\n",
              "              style=\"display:none;\">\n",
              "        \n",
              "  <svg xmlns=\"http://www.w3.org/2000/svg\" height=\"24px\"viewBox=\"0 0 24 24\"\n",
              "       width=\"24px\">\n",
              "    <path d=\"M0 0h24v24H0V0z\" fill=\"none\"/>\n",
              "    <path d=\"M18.56 5.44l.94 2.06.94-2.06 2.06-.94-2.06-.94-.94-2.06-.94 2.06-2.06.94zm-11 1L8.5 8.5l.94-2.06 2.06-.94-2.06-.94L8.5 2.5l-.94 2.06-2.06.94zm10 10l.94 2.06.94-2.06 2.06-.94-2.06-.94-.94-2.06-.94 2.06-2.06.94z\"/><path d=\"M17.41 7.96l-1.37-1.37c-.4-.4-.92-.59-1.43-.59-.52 0-1.04.2-1.43.59L10.3 9.45l-7.72 7.72c-.78.78-.78 2.05 0 2.83L4 21.41c.39.39.9.59 1.41.59.51 0 1.02-.2 1.41-.59l7.78-7.78 2.81-2.81c.8-.78.8-2.07 0-2.86zM5.41 20L4 18.59l7.72-7.72 1.47 1.35L5.41 20z\"/>\n",
              "  </svg>\n",
              "      </button>\n",
              "      \n",
              "  <style>\n",
              "    .colab-df-container {\n",
              "      display:flex;\n",
              "      flex-wrap:wrap;\n",
              "      gap: 12px;\n",
              "    }\n",
              "\n",
              "    .colab-df-convert {\n",
              "      background-color: #E8F0FE;\n",
              "      border: none;\n",
              "      border-radius: 50%;\n",
              "      cursor: pointer;\n",
              "      display: none;\n",
              "      fill: #1967D2;\n",
              "      height: 32px;\n",
              "      padding: 0 0 0 0;\n",
              "      width: 32px;\n",
              "    }\n",
              "\n",
              "    .colab-df-convert:hover {\n",
              "      background-color: #E2EBFA;\n",
              "      box-shadow: 0px 1px 2px rgba(60, 64, 67, 0.3), 0px 1px 3px 1px rgba(60, 64, 67, 0.15);\n",
              "      fill: #174EA6;\n",
              "    }\n",
              "\n",
              "    [theme=dark] .colab-df-convert {\n",
              "      background-color: #3B4455;\n",
              "      fill: #D2E3FC;\n",
              "    }\n",
              "\n",
              "    [theme=dark] .colab-df-convert:hover {\n",
              "      background-color: #434B5C;\n",
              "      box-shadow: 0px 1px 3px 1px rgba(0, 0, 0, 0.15);\n",
              "      filter: drop-shadow(0px 1px 2px rgba(0, 0, 0, 0.3));\n",
              "      fill: #FFFFFF;\n",
              "    }\n",
              "  </style>\n",
              "\n",
              "      <script>\n",
              "        const buttonEl =\n",
              "          document.querySelector('#df-0b2be5e2-307e-4d8f-85f8-b4f32ab76e83 button.colab-df-convert');\n",
              "        buttonEl.style.display =\n",
              "          google.colab.kernel.accessAllowed ? 'block' : 'none';\n",
              "\n",
              "        async function convertToInteractive(key) {\n",
              "          const element = document.querySelector('#df-0b2be5e2-307e-4d8f-85f8-b4f32ab76e83');\n",
              "          const dataTable =\n",
              "            await google.colab.kernel.invokeFunction('convertToInteractive',\n",
              "                                                     [key], {});\n",
              "          if (!dataTable) return;\n",
              "\n",
              "          const docLinkHtml = 'Like what you see? Visit the ' +\n",
              "            '<a target=\"_blank\" href=https://colab.research.google.com/notebooks/data_table.ipynb>data table notebook</a>'\n",
              "            + ' to learn more about interactive tables.';\n",
              "          element.innerHTML = '';\n",
              "          dataTable['output_type'] = 'display_data';\n",
              "          await google.colab.output.renderOutput(dataTable, element);\n",
              "          const docLink = document.createElement('div');\n",
              "          docLink.innerHTML = docLinkHtml;\n",
              "          element.appendChild(docLink);\n",
              "        }\n",
              "      </script>\n",
              "    </div>\n",
              "  </div>\n",
              "  "
            ]
          },
          "metadata": {},
          "execution_count": 11
        }
      ]
    },
    {
      "cell_type": "code",
      "source": [
        "test_fungal=test.loc[test['label']=='Fungal']\n",
        "test_fungal"
      ],
      "metadata": {
        "colab": {
          "base_uri": "https://localhost:8080/",
          "height": 488
        },
        "id": "gOPqq3e5vTTX",
        "outputId": "8f159fa5-1f31-43d2-8d4b-76c1f24fdd19"
      },
      "execution_count": null,
      "outputs": [
        {
          "output_type": "execute_result",
          "data": {
            "text/plain": [
              "     label                       ID\n",
              "0   Fungal             IMG_5635.jpg\n",
              "1   Fungal             IMG_5616.jpg\n",
              "2   Fungal             IMG_5605.jpg\n",
              "3   Fungal             IMG_5601.jpg\n",
              "4   Fungal             IMG_5585.jpg\n",
              "5   Fungal             IMG_5662.jpg\n",
              "6   Fungal             IMG_5637.jpg\n",
              "7   Fungal             IMG_5602.jpg\n",
              "8   Fungal             IMG_5627.jpg\n",
              "9   Fungal  IMG-20170816-WA0012.jpg\n",
              "10  Fungal  IMG-20170225-WA0040.jpg\n",
              "11  Fungal  IMG-20170222-WA0030.jpg\n",
              "12  Fungal  IMG-20170225-WA0039.jpg\n",
              "13  Fungal             DSC_0234.jpg"
            ],
            "text/html": [
              "\n",
              "  <div id=\"df-65df784e-e304-4b33-ad80-c3f3b4ff5237\">\n",
              "    <div class=\"colab-df-container\">\n",
              "      <div>\n",
              "<style scoped>\n",
              "    .dataframe tbody tr th:only-of-type {\n",
              "        vertical-align: middle;\n",
              "    }\n",
              "\n",
              "    .dataframe tbody tr th {\n",
              "        vertical-align: top;\n",
              "    }\n",
              "\n",
              "    .dataframe thead th {\n",
              "        text-align: right;\n",
              "    }\n",
              "</style>\n",
              "<table border=\"1\" class=\"dataframe\">\n",
              "  <thead>\n",
              "    <tr style=\"text-align: right;\">\n",
              "      <th></th>\n",
              "      <th>label</th>\n",
              "      <th>ID</th>\n",
              "    </tr>\n",
              "  </thead>\n",
              "  <tbody>\n",
              "    <tr>\n",
              "      <th>0</th>\n",
              "      <td>Fungal</td>\n",
              "      <td>IMG_5635.jpg</td>\n",
              "    </tr>\n",
              "    <tr>\n",
              "      <th>1</th>\n",
              "      <td>Fungal</td>\n",
              "      <td>IMG_5616.jpg</td>\n",
              "    </tr>\n",
              "    <tr>\n",
              "      <th>2</th>\n",
              "      <td>Fungal</td>\n",
              "      <td>IMG_5605.jpg</td>\n",
              "    </tr>\n",
              "    <tr>\n",
              "      <th>3</th>\n",
              "      <td>Fungal</td>\n",
              "      <td>IMG_5601.jpg</td>\n",
              "    </tr>\n",
              "    <tr>\n",
              "      <th>4</th>\n",
              "      <td>Fungal</td>\n",
              "      <td>IMG_5585.jpg</td>\n",
              "    </tr>\n",
              "    <tr>\n",
              "      <th>5</th>\n",
              "      <td>Fungal</td>\n",
              "      <td>IMG_5662.jpg</td>\n",
              "    </tr>\n",
              "    <tr>\n",
              "      <th>6</th>\n",
              "      <td>Fungal</td>\n",
              "      <td>IMG_5637.jpg</td>\n",
              "    </tr>\n",
              "    <tr>\n",
              "      <th>7</th>\n",
              "      <td>Fungal</td>\n",
              "      <td>IMG_5602.jpg</td>\n",
              "    </tr>\n",
              "    <tr>\n",
              "      <th>8</th>\n",
              "      <td>Fungal</td>\n",
              "      <td>IMG_5627.jpg</td>\n",
              "    </tr>\n",
              "    <tr>\n",
              "      <th>9</th>\n",
              "      <td>Fungal</td>\n",
              "      <td>IMG-20170816-WA0012.jpg</td>\n",
              "    </tr>\n",
              "    <tr>\n",
              "      <th>10</th>\n",
              "      <td>Fungal</td>\n",
              "      <td>IMG-20170225-WA0040.jpg</td>\n",
              "    </tr>\n",
              "    <tr>\n",
              "      <th>11</th>\n",
              "      <td>Fungal</td>\n",
              "      <td>IMG-20170222-WA0030.jpg</td>\n",
              "    </tr>\n",
              "    <tr>\n",
              "      <th>12</th>\n",
              "      <td>Fungal</td>\n",
              "      <td>IMG-20170225-WA0039.jpg</td>\n",
              "    </tr>\n",
              "    <tr>\n",
              "      <th>13</th>\n",
              "      <td>Fungal</td>\n",
              "      <td>DSC_0234.jpg</td>\n",
              "    </tr>\n",
              "  </tbody>\n",
              "</table>\n",
              "</div>\n",
              "      <button class=\"colab-df-convert\" onclick=\"convertToInteractive('df-65df784e-e304-4b33-ad80-c3f3b4ff5237')\"\n",
              "              title=\"Convert this dataframe to an interactive table.\"\n",
              "              style=\"display:none;\">\n",
              "        \n",
              "  <svg xmlns=\"http://www.w3.org/2000/svg\" height=\"24px\"viewBox=\"0 0 24 24\"\n",
              "       width=\"24px\">\n",
              "    <path d=\"M0 0h24v24H0V0z\" fill=\"none\"/>\n",
              "    <path d=\"M18.56 5.44l.94 2.06.94-2.06 2.06-.94-2.06-.94-.94-2.06-.94 2.06-2.06.94zm-11 1L8.5 8.5l.94-2.06 2.06-.94-2.06-.94L8.5 2.5l-.94 2.06-2.06.94zm10 10l.94 2.06.94-2.06 2.06-.94-2.06-.94-.94-2.06-.94 2.06-2.06.94z\"/><path d=\"M17.41 7.96l-1.37-1.37c-.4-.4-.92-.59-1.43-.59-.52 0-1.04.2-1.43.59L10.3 9.45l-7.72 7.72c-.78.78-.78 2.05 0 2.83L4 21.41c.39.39.9.59 1.41.59.51 0 1.02-.2 1.41-.59l7.78-7.78 2.81-2.81c.8-.78.8-2.07 0-2.86zM5.41 20L4 18.59l7.72-7.72 1.47 1.35L5.41 20z\"/>\n",
              "  </svg>\n",
              "      </button>\n",
              "      \n",
              "  <style>\n",
              "    .colab-df-container {\n",
              "      display:flex;\n",
              "      flex-wrap:wrap;\n",
              "      gap: 12px;\n",
              "    }\n",
              "\n",
              "    .colab-df-convert {\n",
              "      background-color: #E8F0FE;\n",
              "      border: none;\n",
              "      border-radius: 50%;\n",
              "      cursor: pointer;\n",
              "      display: none;\n",
              "      fill: #1967D2;\n",
              "      height: 32px;\n",
              "      padding: 0 0 0 0;\n",
              "      width: 32px;\n",
              "    }\n",
              "\n",
              "    .colab-df-convert:hover {\n",
              "      background-color: #E2EBFA;\n",
              "      box-shadow: 0px 1px 2px rgba(60, 64, 67, 0.3), 0px 1px 3px 1px rgba(60, 64, 67, 0.15);\n",
              "      fill: #174EA6;\n",
              "    }\n",
              "\n",
              "    [theme=dark] .colab-df-convert {\n",
              "      background-color: #3B4455;\n",
              "      fill: #D2E3FC;\n",
              "    }\n",
              "\n",
              "    [theme=dark] .colab-df-convert:hover {\n",
              "      background-color: #434B5C;\n",
              "      box-shadow: 0px 1px 3px 1px rgba(0, 0, 0, 0.15);\n",
              "      filter: drop-shadow(0px 1px 2px rgba(0, 0, 0, 0.3));\n",
              "      fill: #FFFFFF;\n",
              "    }\n",
              "  </style>\n",
              "\n",
              "      <script>\n",
              "        const buttonEl =\n",
              "          document.querySelector('#df-65df784e-e304-4b33-ad80-c3f3b4ff5237 button.colab-df-convert');\n",
              "        buttonEl.style.display =\n",
              "          google.colab.kernel.accessAllowed ? 'block' : 'none';\n",
              "\n",
              "        async function convertToInteractive(key) {\n",
              "          const element = document.querySelector('#df-65df784e-e304-4b33-ad80-c3f3b4ff5237');\n",
              "          const dataTable =\n",
              "            await google.colab.kernel.invokeFunction('convertToInteractive',\n",
              "                                                     [key], {});\n",
              "          if (!dataTable) return;\n",
              "\n",
              "          const docLinkHtml = 'Like what you see? Visit the ' +\n",
              "            '<a target=\"_blank\" href=https://colab.research.google.com/notebooks/data_table.ipynb>data table notebook</a>'\n",
              "            + ' to learn more about interactive tables.';\n",
              "          element.innerHTML = '';\n",
              "          dataTable['output_type'] = 'display_data';\n",
              "          await google.colab.output.renderOutput(dataTable, element);\n",
              "          const docLink = document.createElement('div');\n",
              "          docLink.innerHTML = docLinkHtml;\n",
              "          element.appendChild(docLink);\n",
              "        }\n",
              "      </script>\n",
              "    </div>\n",
              "  </div>\n",
              "  "
            ]
          },
          "metadata": {},
          "execution_count": 12
        }
      ]
    },
    {
      "cell_type": "code",
      "source": [
        "test_bacterial=test.loc[test['label']=='Bacterial']\n",
        "test_bacterial"
      ],
      "metadata": {
        "colab": {
          "base_uri": "https://localhost:8080/",
          "height": 613
        },
        "id": "JchUeXlqvxQY",
        "outputId": "3ba3c2ea-7e17-4530-bf87-2478267032d6"
      },
      "execution_count": null,
      "outputs": [
        {
          "output_type": "execute_result",
          "data": {
            "text/plain": [
              "        label                       ID\n",
              "14  Bacterial  IMG-20150601-WA0002.jpg\n",
              "15  Bacterial  IMG-20170706-WA0052.jpg\n",
              "16  Bacterial  IMG-20170706-WA0054.jpg\n",
              "17  Bacterial  IMG-20170706-WA0055.jpg\n",
              "18  Bacterial  IMG-20181119-WA0011.jpg\n",
              "19  Bacterial  IMG-20181119-WA0012.jpg\n",
              "20  Bacterial  IMG-20190128-WA0013.jpg\n",
              "21  Bacterial  IMG-20190128-WA0009.jpg\n",
              "22  Bacterial  IMG-20190128-WA0011.jpg\n",
              "23  Bacterial  IMG-20190128-WA0019.jpg\n",
              "24  Bacterial             P8090030.jpg\n",
              "25  Bacterial             P8090031.jpg\n",
              "26  Bacterial             P8090032.jpg\n",
              "27  Bacterial          DSC_2001(1).jpg\n",
              "28  Bacterial          DSC_2003(1).jpg\n",
              "29  Bacterial             DSC_2004.jpg\n",
              "30  Bacterial          DSC_2005(1).jpg\n",
              "31  Bacterial          DSC_2022(1).jpg"
            ],
            "text/html": [
              "\n",
              "  <div id=\"df-dea00403-638c-4574-a15a-807b9a823f8e\">\n",
              "    <div class=\"colab-df-container\">\n",
              "      <div>\n",
              "<style scoped>\n",
              "    .dataframe tbody tr th:only-of-type {\n",
              "        vertical-align: middle;\n",
              "    }\n",
              "\n",
              "    .dataframe tbody tr th {\n",
              "        vertical-align: top;\n",
              "    }\n",
              "\n",
              "    .dataframe thead th {\n",
              "        text-align: right;\n",
              "    }\n",
              "</style>\n",
              "<table border=\"1\" class=\"dataframe\">\n",
              "  <thead>\n",
              "    <tr style=\"text-align: right;\">\n",
              "      <th></th>\n",
              "      <th>label</th>\n",
              "      <th>ID</th>\n",
              "    </tr>\n",
              "  </thead>\n",
              "  <tbody>\n",
              "    <tr>\n",
              "      <th>14</th>\n",
              "      <td>Bacterial</td>\n",
              "      <td>IMG-20150601-WA0002.jpg</td>\n",
              "    </tr>\n",
              "    <tr>\n",
              "      <th>15</th>\n",
              "      <td>Bacterial</td>\n",
              "      <td>IMG-20170706-WA0052.jpg</td>\n",
              "    </tr>\n",
              "    <tr>\n",
              "      <th>16</th>\n",
              "      <td>Bacterial</td>\n",
              "      <td>IMG-20170706-WA0054.jpg</td>\n",
              "    </tr>\n",
              "    <tr>\n",
              "      <th>17</th>\n",
              "      <td>Bacterial</td>\n",
              "      <td>IMG-20170706-WA0055.jpg</td>\n",
              "    </tr>\n",
              "    <tr>\n",
              "      <th>18</th>\n",
              "      <td>Bacterial</td>\n",
              "      <td>IMG-20181119-WA0011.jpg</td>\n",
              "    </tr>\n",
              "    <tr>\n",
              "      <th>19</th>\n",
              "      <td>Bacterial</td>\n",
              "      <td>IMG-20181119-WA0012.jpg</td>\n",
              "    </tr>\n",
              "    <tr>\n",
              "      <th>20</th>\n",
              "      <td>Bacterial</td>\n",
              "      <td>IMG-20190128-WA0013.jpg</td>\n",
              "    </tr>\n",
              "    <tr>\n",
              "      <th>21</th>\n",
              "      <td>Bacterial</td>\n",
              "      <td>IMG-20190128-WA0009.jpg</td>\n",
              "    </tr>\n",
              "    <tr>\n",
              "      <th>22</th>\n",
              "      <td>Bacterial</td>\n",
              "      <td>IMG-20190128-WA0011.jpg</td>\n",
              "    </tr>\n",
              "    <tr>\n",
              "      <th>23</th>\n",
              "      <td>Bacterial</td>\n",
              "      <td>IMG-20190128-WA0019.jpg</td>\n",
              "    </tr>\n",
              "    <tr>\n",
              "      <th>24</th>\n",
              "      <td>Bacterial</td>\n",
              "      <td>P8090030.jpg</td>\n",
              "    </tr>\n",
              "    <tr>\n",
              "      <th>25</th>\n",
              "      <td>Bacterial</td>\n",
              "      <td>P8090031.jpg</td>\n",
              "    </tr>\n",
              "    <tr>\n",
              "      <th>26</th>\n",
              "      <td>Bacterial</td>\n",
              "      <td>P8090032.jpg</td>\n",
              "    </tr>\n",
              "    <tr>\n",
              "      <th>27</th>\n",
              "      <td>Bacterial</td>\n",
              "      <td>DSC_2001(1).jpg</td>\n",
              "    </tr>\n",
              "    <tr>\n",
              "      <th>28</th>\n",
              "      <td>Bacterial</td>\n",
              "      <td>DSC_2003(1).jpg</td>\n",
              "    </tr>\n",
              "    <tr>\n",
              "      <th>29</th>\n",
              "      <td>Bacterial</td>\n",
              "      <td>DSC_2004.jpg</td>\n",
              "    </tr>\n",
              "    <tr>\n",
              "      <th>30</th>\n",
              "      <td>Bacterial</td>\n",
              "      <td>DSC_2005(1).jpg</td>\n",
              "    </tr>\n",
              "    <tr>\n",
              "      <th>31</th>\n",
              "      <td>Bacterial</td>\n",
              "      <td>DSC_2022(1).jpg</td>\n",
              "    </tr>\n",
              "  </tbody>\n",
              "</table>\n",
              "</div>\n",
              "      <button class=\"colab-df-convert\" onclick=\"convertToInteractive('df-dea00403-638c-4574-a15a-807b9a823f8e')\"\n",
              "              title=\"Convert this dataframe to an interactive table.\"\n",
              "              style=\"display:none;\">\n",
              "        \n",
              "  <svg xmlns=\"http://www.w3.org/2000/svg\" height=\"24px\"viewBox=\"0 0 24 24\"\n",
              "       width=\"24px\">\n",
              "    <path d=\"M0 0h24v24H0V0z\" fill=\"none\"/>\n",
              "    <path d=\"M18.56 5.44l.94 2.06.94-2.06 2.06-.94-2.06-.94-.94-2.06-.94 2.06-2.06.94zm-11 1L8.5 8.5l.94-2.06 2.06-.94-2.06-.94L8.5 2.5l-.94 2.06-2.06.94zm10 10l.94 2.06.94-2.06 2.06-.94-2.06-.94-.94-2.06-.94 2.06-2.06.94z\"/><path d=\"M17.41 7.96l-1.37-1.37c-.4-.4-.92-.59-1.43-.59-.52 0-1.04.2-1.43.59L10.3 9.45l-7.72 7.72c-.78.78-.78 2.05 0 2.83L4 21.41c.39.39.9.59 1.41.59.51 0 1.02-.2 1.41-.59l7.78-7.78 2.81-2.81c.8-.78.8-2.07 0-2.86zM5.41 20L4 18.59l7.72-7.72 1.47 1.35L5.41 20z\"/>\n",
              "  </svg>\n",
              "      </button>\n",
              "      \n",
              "  <style>\n",
              "    .colab-df-container {\n",
              "      display:flex;\n",
              "      flex-wrap:wrap;\n",
              "      gap: 12px;\n",
              "    }\n",
              "\n",
              "    .colab-df-convert {\n",
              "      background-color: #E8F0FE;\n",
              "      border: none;\n",
              "      border-radius: 50%;\n",
              "      cursor: pointer;\n",
              "      display: none;\n",
              "      fill: #1967D2;\n",
              "      height: 32px;\n",
              "      padding: 0 0 0 0;\n",
              "      width: 32px;\n",
              "    }\n",
              "\n",
              "    .colab-df-convert:hover {\n",
              "      background-color: #E2EBFA;\n",
              "      box-shadow: 0px 1px 2px rgba(60, 64, 67, 0.3), 0px 1px 3px 1px rgba(60, 64, 67, 0.15);\n",
              "      fill: #174EA6;\n",
              "    }\n",
              "\n",
              "    [theme=dark] .colab-df-convert {\n",
              "      background-color: #3B4455;\n",
              "      fill: #D2E3FC;\n",
              "    }\n",
              "\n",
              "    [theme=dark] .colab-df-convert:hover {\n",
              "      background-color: #434B5C;\n",
              "      box-shadow: 0px 1px 3px 1px rgba(0, 0, 0, 0.15);\n",
              "      filter: drop-shadow(0px 1px 2px rgba(0, 0, 0, 0.3));\n",
              "      fill: #FFFFFF;\n",
              "    }\n",
              "  </style>\n",
              "\n",
              "      <script>\n",
              "        const buttonEl =\n",
              "          document.querySelector('#df-dea00403-638c-4574-a15a-807b9a823f8e button.colab-df-convert');\n",
              "        buttonEl.style.display =\n",
              "          google.colab.kernel.accessAllowed ? 'block' : 'none';\n",
              "\n",
              "        async function convertToInteractive(key) {\n",
              "          const element = document.querySelector('#df-dea00403-638c-4574-a15a-807b9a823f8e');\n",
              "          const dataTable =\n",
              "            await google.colab.kernel.invokeFunction('convertToInteractive',\n",
              "                                                     [key], {});\n",
              "          if (!dataTable) return;\n",
              "\n",
              "          const docLinkHtml = 'Like what you see? Visit the ' +\n",
              "            '<a target=\"_blank\" href=https://colab.research.google.com/notebooks/data_table.ipynb>data table notebook</a>'\n",
              "            + ' to learn more about interactive tables.';\n",
              "          element.innerHTML = '';\n",
              "          dataTable['output_type'] = 'display_data';\n",
              "          await google.colab.output.renderOutput(dataTable, element);\n",
              "          const docLink = document.createElement('div');\n",
              "          docLink.innerHTML = docLinkHtml;\n",
              "          element.appendChild(docLink);\n",
              "        }\n",
              "      </script>\n",
              "    </div>\n",
              "  </div>\n",
              "  "
            ]
          },
          "metadata": {},
          "execution_count": 13
        }
      ]
    },
    {
      "cell_type": "code",
      "execution_count": null,
      "metadata": {
        "id": "UZoWKJzjzutr",
        "colab": {
          "base_uri": "https://localhost:8080/"
        },
        "outputId": "6c8e108b-ed94-4e95-a76f-545c1a103b93"
      },
      "outputs": [
        {
          "output_type": "stream",
          "name": "stdout",
          "text": [
            "/content/drive/My Drive\n"
          ]
        }
      ],
      "source": [
        "%cd /content/drive/My\\ Drive/\n"
      ]
    },
    {
      "cell_type": "code",
      "execution_count": null,
      "metadata": {
        "id": "4p436_p5zy9C"
      },
      "outputs": [],
      "source": [
        "healthy_filenames = [\"Fruits/Healthy/\" + fname  for fname in df_healthy[\"ID\"]]\n",
        "fungal_filenames = [\"Fruits/Fungal/\" + fname  for fname in df_fungal[\"ID\"]]\n",
        "bacterial_filenames = [\"Fruits/Bacterial/\" + fname  for fname in df_bacterial[\"ID\"]]\n",
        "frames=fungal_filenames+bacterial_filenames+healthy_filenames\n",
        "frames=pd.DataFrame(frames)\n",
        "# result = pd.concat(frames)"
      ]
    },
    {
      "cell_type": "code",
      "source": [
        "healthy_filenames_test = [\"Fruits/Healthy/\" + fname  for fname in test_healthy[\"ID\"]]\n",
        "fungal_filenames_test = [\"Fruits/Fungal/\" + fname  for fname in test_fungal[\"ID\"]]\n",
        "bacterial_filenames_test = [\"Fruits/Bacterial/\" + fname  for fname in test_bacterial[\"ID\"]]\n",
        "frames_test=fungal_filenames_test+bacterial_filenames_test+healthy_filenames_test\n",
        "frames_test=pd.DataFrame(frames_test)\n",
        "# result = pd.concat(frames)\n",
        "# len(healthy_filenames_test)"
      ],
      "metadata": {
        "id": "lQwr2N0Jv8KQ"
      },
      "execution_count": null,
      "outputs": []
    },
    {
      "cell_type": "code",
      "source": [
        "len(healthy_filenames)"
      ],
      "metadata": {
        "colab": {
          "base_uri": "https://localhost:8080/"
        },
        "id": "GSDH-SmCm8ZY",
        "outputId": "aefb30c5-bb24-4962-b944-7383a24bf821"
      },
      "execution_count": null,
      "outputs": [
        {
          "output_type": "execute_result",
          "data": {
            "text/plain": [
              "81"
            ]
          },
          "metadata": {},
          "execution_count": 17
        }
      ]
    },
    {
      "cell_type": "code",
      "execution_count": null,
      "metadata": {
        "id": "RutNK8mt0dHg"
      },
      "outputs": [],
      "source": [
        "from IPython.display import Image"
      ]
    },
    {
      "cell_type": "code",
      "execution_count": null,
      "metadata": {
        "id": "JEsJ1Sx40dVK",
        "colab": {
          "base_uri": "https://localhost:8080/",
          "height": 587
        },
        "outputId": "356f3102-dde4-423a-de3c-22b2852343ba"
      },
      "outputs": [
        {
          "output_type": "execute_result",
          "data": {
            "image/jpeg": "[encoded data removed]",
            "text/plain": [
              "<IPython.core.display.Image object>"
            ]
          },
          "metadata": {},
          "execution_count": 19
        }
      ],
      "source": [
        "Image(healthy_filenames_test[5])"
      ]
    },
    {
      "cell_type": "code",
      "execution_count": null,
      "metadata": {
        "id": "ngr78NGW1n5t",
        "colab": {
          "base_uri": "https://localhost:8080/"
        },
        "outputId": "6f8cfcdf-7149-4246-e77c-ead513e8a035"
      },
      "outputs": [
        {
          "output_type": "execute_result",
          "data": {
            "text/plain": [
              "array(['Fungal', 'Fungal', 'Fungal', 'Fungal', 'Fungal', 'Fungal',\n",
              "       'Fungal', 'Fungal', 'Fungal', 'Fungal', 'Fungal', 'Fungal',\n",
              "       'Fungal', 'Fungal', 'Fungal', 'Fungal', 'Fungal', 'Fungal',\n",
              "       'Fungal', 'Fungal', 'Fungal', 'Fungal', 'Fungal', 'Fungal',\n",
              "       'Fungal', 'Fungal', 'Fungal', 'Fungal', 'Fungal', 'Fungal',\n",
              "       'Fungal', 'Fungal', 'Fungal', 'Fungal', 'Fungal', 'Fungal',\n",
              "       'Fungal', 'Fungal', 'Fungal', 'Fungal', 'Fungal', 'Fungal',\n",
              "       'Fungal', 'Fungal', 'Fungal', 'Fungal', 'Fungal', 'Fungal',\n",
              "       'Fungal', 'Fungal', 'Fungal', 'Fungal', 'Fungal', 'Fungal',\n",
              "       'Fungal', 'Fungal', 'Fungal', 'Fungal', 'Fungal', 'Fungal',\n",
              "       'Fungal', 'Fungal', 'Fungal', 'Fungal', 'Fungal', 'Fungal',\n",
              "       'Fungal', 'Fungal', 'Fungal', 'Fungal', 'Fungal', 'Fungal',\n",
              "       'Fungal', 'Fungal', 'Fungal', 'Fungal', 'Fungal', 'Fungal',\n",
              "       'Fungal', 'Fungal', 'Fungal', 'Fungal', 'Fungal', 'Fungal',\n",
              "       'Fungal', 'Fungal', 'Fungal', 'Fungal', 'Fungal', 'Fungal',\n",
              "       'Fungal', 'Fungal', 'Fungal', 'Fungal', 'Fungal', 'Fungal',\n",
              "       'Fungal', 'Fungal', 'Fungal', 'Fungal', 'Fungal', 'Fungal',\n",
              "       'Fungal', 'Fungal', 'Fungal', 'Fungal', 'Fungal', 'Fungal',\n",
              "       'Fungal', 'Fungal', 'Fungal', 'Fungal', 'Fungal', 'Fungal',\n",
              "       'Fungal', 'Fungal', 'Fungal', 'Fungal', 'Fungal', 'Fungal',\n",
              "       'Fungal', 'Fungal', 'Fungal', 'Fungal', 'Fungal', 'Fungal',\n",
              "       'Fungal', 'Fungal', 'Fungal', 'Fungal', 'Fungal', 'Fungal',\n",
              "       'Fungal', 'Fungal', 'Fungal', 'Fungal', 'Fungal', 'Fungal',\n",
              "       'Fungal', 'Fungal', 'Fungal', 'Fungal', 'Fungal', 'Fungal',\n",
              "       'Fungal', 'Fungal', 'Fungal', 'Fungal', 'Fungal', 'Fungal',\n",
              "       'Fungal', 'Fungal', 'Fungal', 'Fungal', 'Fungal', 'Fungal',\n",
              "       'Fungal', 'Fungal', 'Fungal', 'Fungal', 'Fungal', 'Fungal',\n",
              "       'Fungal', 'Fungal', 'Fungal', 'Fungal', 'Fungal', 'Fungal',\n",
              "       'Bacterial', 'Bacterial', 'Bacterial', 'Bacterial', 'Bacterial',\n",
              "       'Bacterial', 'Bacterial', 'Bacterial', 'Bacterial', 'Bacterial',\n",
              "       'Bacterial', 'Bacterial', 'Bacterial', 'Bacterial', 'Bacterial',\n",
              "       'Bacterial', 'Bacterial', 'Bacterial', 'Bacterial', 'Bacterial',\n",
              "       'Bacterial', 'Bacterial', 'Bacterial', 'Bacterial', 'Bacterial',\n",
              "       'Bacterial', 'Bacterial', 'Bacterial', 'Bacterial', 'Bacterial',\n",
              "       'Bacterial', 'Bacterial', 'Bacterial', 'Bacterial', 'Bacterial',\n",
              "       'Bacterial', 'Bacterial', 'Bacterial', 'Bacterial', 'Bacterial',\n",
              "       'Bacterial', 'Bacterial', 'Bacterial', 'Bacterial', 'Bacterial',\n",
              "       'Bacterial', 'Bacterial', 'Bacterial', 'Bacterial', 'Bacterial',\n",
              "       'Bacterial', 'Bacterial', 'Bacterial', 'Bacterial', 'Bacterial',\n",
              "       'Bacterial', 'Bacterial', 'Bacterial', 'Bacterial', 'Bacterial',\n",
              "       'Bacterial', 'Bacterial', 'Bacterial', 'Bacterial', 'Bacterial',\n",
              "       'Bacterial', 'Bacterial', 'Bacterial', 'Bacterial', 'Bacterial',\n",
              "       'Bacterial', 'Bacterial', 'Bacterial', 'Bacterial', 'Bacterial',\n",
              "       'Bacterial', 'Bacterial', 'Bacterial', 'Bacterial', 'Bacterial',\n",
              "       'Bacterial', 'Bacterial', 'Bacterial', 'Bacterial', 'Bacterial',\n",
              "       'Bacterial', 'Bacterial', 'Bacterial', 'Bacterial', 'Bacterial',\n",
              "       'Bacterial', 'Bacterial', 'Bacterial', 'Bacterial', 'Bacterial',\n",
              "       'Bacterial', 'Bacterial', 'Bacterial', 'Bacterial', 'Bacterial',\n",
              "       'Bacterial', 'Bacterial', 'Bacterial', 'Bacterial', 'Bacterial',\n",
              "       'Bacterial', 'Bacterial', 'Bacterial', 'Bacterial', 'Bacterial',\n",
              "       'Bacterial', 'Bacterial', 'Bacterial', 'Bacterial', 'Bacterial',\n",
              "       'Bacterial', 'Bacterial', 'Bacterial', 'Bacterial', 'Bacterial',\n",
              "       'Bacterial', 'Bacterial', 'Bacterial', 'Bacterial', 'Bacterial',\n",
              "       'Bacterial', 'Bacterial', 'Bacterial', 'Healthy', 'Healthy',\n",
              "       'Healthy', 'Healthy', 'Healthy', 'Healthy', 'Healthy', 'Healthy',\n",
              "       'Healthy', 'Healthy', 'Healthy', 'Healthy', 'Healthy', 'Healthy',\n",
              "       'Healthy', 'Healthy', 'Healthy', 'Healthy', 'Healthy', 'Healthy',\n",
              "       'Healthy', 'Healthy', 'Healthy', 'Healthy', 'Healthy', 'Healthy',\n",
              "       'Healthy', 'Healthy', 'Healthy', 'Healthy', 'Healthy', 'Healthy',\n",
              "       'Healthy', 'Healthy', 'Healthy', 'Healthy', 'Healthy', 'Healthy',\n",
              "       'Healthy', 'Healthy', 'Healthy', 'Healthy', 'Healthy', 'Healthy',\n",
              "       'Healthy', 'Healthy', 'Healthy', 'Healthy', 'Healthy', 'Healthy',\n",
              "       'Healthy', 'Healthy', 'Healthy', 'Healthy', 'Healthy', 'Healthy',\n",
              "       'Healthy', 'Healthy', 'Healthy', 'Healthy', 'Healthy', 'Healthy',\n",
              "       'Healthy', 'Healthy', 'Healthy', 'Healthy', 'Healthy', 'Healthy',\n",
              "       'Healthy', 'Healthy', 'Healthy', 'Healthy', 'Healthy', 'Healthy',\n",
              "       'Healthy', 'Healthy', 'Healthy', 'Healthy', 'Healthy', 'Healthy',\n",
              "       'Healthy'], dtype=object)"
            ]
          },
          "metadata": {},
          "execution_count": 20
        }
      ],
      "source": [
        "import numpy as np\n",
        "labels = df[\"label\"]\n",
        "labels = np.array(labels)\n",
        "labels"
      ]
    },
    {
      "cell_type": "code",
      "source": [
        "import numpy as np\n",
        "labels_test = test[\"label\"]\n",
        "labels_test = np.array(labels_test)\n",
        "labels_test"
      ],
      "metadata": {
        "colab": {
          "base_uri": "https://localhost:8080/"
        },
        "id": "k6WLzjwBwoU2",
        "outputId": "047eab3c-ec6a-4eb9-a570-902edb87d779"
      },
      "execution_count": null,
      "outputs": [
        {
          "output_type": "execute_result",
          "data": {
            "text/plain": [
              "array(['Fungal', 'Fungal', 'Fungal', 'Fungal', 'Fungal', 'Fungal',\n",
              "       'Fungal', 'Fungal', 'Fungal', 'Fungal', 'Fungal', 'Fungal',\n",
              "       'Fungal', 'Fungal', 'Bacterial', 'Bacterial', 'Bacterial',\n",
              "       'Bacterial', 'Bacterial', 'Bacterial', 'Bacterial', 'Bacterial',\n",
              "       'Bacterial', 'Bacterial', 'Bacterial', 'Bacterial', 'Bacterial',\n",
              "       'Bacterial', 'Bacterial', 'Bacterial', 'Bacterial', 'Bacterial',\n",
              "       'Healthy', 'Healthy', 'Healthy', 'Healthy', 'Healthy', 'Healthy',\n",
              "       'Healthy', 'Healthy', 'Healthy', 'Healthy'], dtype=object)"
            ]
          },
          "metadata": {},
          "execution_count": 21
        }
      ]
    },
    {
      "cell_type": "code",
      "execution_count": null,
      "metadata": {
        "id": "n275ZX3e2aWp"
      },
      "outputs": [],
      "source": [
        "\n",
        "frames[\"label\"]=labels\n",
        "frames.columns=['ID','label']\n"
      ]
    },
    {
      "cell_type": "code",
      "source": [
        "frames_test[\"label\"] = labels_test\n",
        "frames_test.columns = ['ID','label']"
      ],
      "metadata": {
        "id": "TM3dLS8Uw4m5"
      },
      "execution_count": null,
      "outputs": []
    },
    {
      "cell_type": "code",
      "execution_count": null,
      "metadata": {
        "id": "0lVY9LtY2en1",
        "colab": {
          "base_uri": "https://localhost:8080/",
          "height": 423
        },
        "outputId": "e4f9ca6b-77ab-4782-ab99-ff6814c2638d"
      },
      "outputs": [
        {
          "output_type": "execute_result",
          "data": {
            "text/plain": [
              "                                      ID      label\n",
              "62            Fruits/Fungal/DSC_5952.jpg     Fungal\n",
              "324  Fruits/Healthy/Copy of DSC_5920.jpg    Healthy\n",
              "69            Fruits/Fungal/DSC_7775.jpg     Fungal\n",
              "296  Fruits/Healthy/Copy of DSC09556.jpg    Healthy\n",
              "64            Fruits/Fungal/DSC_5942.jpg     Fungal\n",
              "..                                   ...        ...\n",
              "23            Fruits/Fungal/DSC_5980.jpg     Fungal\n",
              "44            Fruits/Fungal/DSC_5978.jpg     Fungal\n",
              "340  Fruits/Healthy/Copy of DSC_2114.jpg    Healthy\n",
              "208        Fruits/Bacterial/DSC00009.jpg  Bacterial\n",
              "297  Fruits/Healthy/Copy of DSC_9608.jpg    Healthy\n",
              "\n",
              "[377 rows x 2 columns]"
            ],
            "text/html": [
              "\n",
              "  <div id=\"df-a323b616-c8e3-4ec3-9a19-167553c19a93\">\n",
              "    <div class=\"colab-df-container\">\n",
              "      <div>\n",
              "<style scoped>\n",
              "    .dataframe tbody tr th:only-of-type {\n",
              "        vertical-align: middle;\n",
              "    }\n",
              "\n",
              "    .dataframe tbody tr th {\n",
              "        vertical-align: top;\n",
              "    }\n",
              "\n",
              "    .dataframe thead th {\n",
              "        text-align: right;\n",
              "    }\n",
              "</style>\n",
              "<table border=\"1\" class=\"dataframe\">\n",
              "  <thead>\n",
              "    <tr style=\"text-align: right;\">\n",
              "      <th></th>\n",
              "      <th>ID</th>\n",
              "      <th>label</th>\n",
              "    </tr>\n",
              "  </thead>\n",
              "  <tbody>\n",
              "    <tr>\n",
              "      <th>62</th>\n",
              "      <td>Fruits/Fungal/DSC_5952.jpg</td>\n",
              "      <td>Fungal</td>\n",
              "    </tr>\n",
              "    <tr>\n",
              "      <th>324</th>\n",
              "      <td>Fruits/Healthy/Copy of DSC_5920.jpg</td>\n",
              "      <td>Healthy</td>\n",
              "    </tr>\n",
              "    <tr>\n",
              "      <th>69</th>\n",
              "      <td>Fruits/Fungal/DSC_7775.jpg</td>\n",
              "      <td>Fungal</td>\n",
              "    </tr>\n",
              "    <tr>\n",
              "      <th>296</th>\n",
              "      <td>Fruits/Healthy/Copy of DSC09556.jpg</td>\n",
              "      <td>Healthy</td>\n",
              "    </tr>\n",
              "    <tr>\n",
              "      <th>64</th>\n",
              "      <td>Fruits/Fungal/DSC_5942.jpg</td>\n",
              "      <td>Fungal</td>\n",
              "    </tr>\n",
              "    <tr>\n",
              "      <th>...</th>\n",
              "      <td>...</td>\n",
              "      <td>...</td>\n",
              "    </tr>\n",
              "    <tr>\n",
              "      <th>23</th>\n",
              "      <td>Fruits/Fungal/DSC_5980.jpg</td>\n",
              "      <td>Fungal</td>\n",
              "    </tr>\n",
              "    <tr>\n",
              "      <th>44</th>\n",
              "      <td>Fruits/Fungal/DSC_5978.jpg</td>\n",
              "      <td>Fungal</td>\n",
              "    </tr>\n",
              "    <tr>\n",
              "      <th>340</th>\n",
              "      <td>Fruits/Healthy/Copy of DSC_2114.jpg</td>\n",
              "      <td>Healthy</td>\n",
              "    </tr>\n",
              "    <tr>\n",
              "      <th>208</th>\n",
              "      <td>Fruits/Bacterial/DSC00009.jpg</td>\n",
              "      <td>Bacterial</td>\n",
              "    </tr>\n",
              "    <tr>\n",
              "      <th>297</th>\n",
              "      <td>Fruits/Healthy/Copy of DSC_9608.jpg</td>\n",
              "      <td>Healthy</td>\n",
              "    </tr>\n",
              "  </tbody>\n",
              "</table>\n",
              "<p>377 rows × 2 columns</p>\n",
              "</div>\n",
              "      <button class=\"colab-df-convert\" onclick=\"convertToInteractive('df-a323b616-c8e3-4ec3-9a19-167553c19a93')\"\n",
              "              title=\"Convert this dataframe to an interactive table.\"\n",
              "              style=\"display:none;\">\n",
              "        \n",
              "  <svg xmlns=\"http://www.w3.org/2000/svg\" height=\"24px\"viewBox=\"0 0 24 24\"\n",
              "       width=\"24px\">\n",
              "    <path d=\"M0 0h24v24H0V0z\" fill=\"none\"/>\n",
              "    <path d=\"M18.56 5.44l.94 2.06.94-2.06 2.06-.94-2.06-.94-.94-2.06-.94 2.06-2.06.94zm-11 1L8.5 8.5l.94-2.06 2.06-.94-2.06-.94L8.5 2.5l-.94 2.06-2.06.94zm10 10l.94 2.06.94-2.06 2.06-.94-2.06-.94-.94-2.06-.94 2.06-2.06.94z\"/><path d=\"M17.41 7.96l-1.37-1.37c-.4-.4-.92-.59-1.43-.59-.52 0-1.04.2-1.43.59L10.3 9.45l-7.72 7.72c-.78.78-.78 2.05 0 2.83L4 21.41c.39.39.9.59 1.41.59.51 0 1.02-.2 1.41-.59l7.78-7.78 2.81-2.81c.8-.78.8-2.07 0-2.86zM5.41 20L4 18.59l7.72-7.72 1.47 1.35L5.41 20z\"/>\n",
              "  </svg>\n",
              "      </button>\n",
              "      \n",
              "  <style>\n",
              "    .colab-df-container {\n",
              "      display:flex;\n",
              "      flex-wrap:wrap;\n",
              "      gap: 12px;\n",
              "    }\n",
              "\n",
              "    .colab-df-convert {\n",
              "      background-color: #E8F0FE;\n",
              "      border: none;\n",
              "      border-radius: 50%;\n",
              "      cursor: pointer;\n",
              "      display: none;\n",
              "      fill: #1967D2;\n",
              "      height: 32px;\n",
              "      padding: 0 0 0 0;\n",
              "      width: 32px;\n",
              "    }\n",
              "\n",
              "    .colab-df-convert:hover {\n",
              "      background-color: #E2EBFA;\n",
              "      box-shadow: 0px 1px 2px rgba(60, 64, 67, 0.3), 0px 1px 3px 1px rgba(60, 64, 67, 0.15);\n",
              "      fill: #174EA6;\n",
              "    }\n",
              "\n",
              "    [theme=dark] .colab-df-convert {\n",
              "      background-color: #3B4455;\n",
              "      fill: #D2E3FC;\n",
              "    }\n",
              "\n",
              "    [theme=dark] .colab-df-convert:hover {\n",
              "      background-color: #434B5C;\n",
              "      box-shadow: 0px 1px 3px 1px rgba(0, 0, 0, 0.15);\n",
              "      filter: drop-shadow(0px 1px 2px rgba(0, 0, 0, 0.3));\n",
              "      fill: #FFFFFF;\n",
              "    }\n",
              "  </style>\n",
              "\n",
              "      <script>\n",
              "        const buttonEl =\n",
              "          document.querySelector('#df-a323b616-c8e3-4ec3-9a19-167553c19a93 button.colab-df-convert');\n",
              "        buttonEl.style.display =\n",
              "          google.colab.kernel.accessAllowed ? 'block' : 'none';\n",
              "\n",
              "        async function convertToInteractive(key) {\n",
              "          const element = document.querySelector('#df-a323b616-c8e3-4ec3-9a19-167553c19a93');\n",
              "          const dataTable =\n",
              "            await google.colab.kernel.invokeFunction('convertToInteractive',\n",
              "                                                     [key], {});\n",
              "          if (!dataTable) return;\n",
              "\n",
              "          const docLinkHtml = 'Like what you see? Visit the ' +\n",
              "            '<a target=\"_blank\" href=https://colab.research.google.com/notebooks/data_table.ipynb>data table notebook</a>'\n",
              "            + ' to learn more about interactive tables.';\n",
              "          element.innerHTML = '';\n",
              "          dataTable['output_type'] = 'display_data';\n",
              "          await google.colab.output.renderOutput(dataTable, element);\n",
              "          const docLink = document.createElement('div');\n",
              "          docLink.innerHTML = docLinkHtml;\n",
              "          element.appendChild(docLink);\n",
              "        }\n",
              "      </script>\n",
              "    </div>\n",
              "  </div>\n",
              "  "
            ]
          },
          "metadata": {},
          "execution_count": 24
        }
      ],
      "source": [
        " frames = frames.sample(frac = 1)\n",
        " frames"
      ]
    },
    {
      "cell_type": "code",
      "source": [
        " frames_test = frames_test.sample(frac = 1)\n",
        " frames_test"
      ],
      "metadata": {
        "colab": {
          "base_uri": "https://localhost:8080/",
          "height": 1000
        },
        "id": "X-Im4WXAxFbB",
        "outputId": "417c180a-01df-4438-ec3b-24f98e9db545"
      },
      "execution_count": null,
      "outputs": [
        {
          "output_type": "execute_result",
          "data": {
            "text/plain": [
              "                                          ID      label\n",
              "39    Fruits/Healthy/IMG-20160108-WA0010.jpg    Healthy\n",
              "7                 Fruits/Fungal/IMG_5602.jpg     Fungal\n",
              "29             Fruits/Bacterial/DSC_2004.jpg  Bacterial\n",
              "16  Fruits/Bacterial/IMG-20170706-WA0054.jpg  Bacterial\n",
              "30          Fruits/Bacterial/DSC_2005(1).jpg  Bacterial\n",
              "19  Fruits/Bacterial/IMG-20181119-WA0012.jpg  Bacterial\n",
              "5                 Fruits/Fungal/IMG_5662.jpg     Fungal\n",
              "1                 Fruits/Fungal/IMG_5616.jpg     Fungal\n",
              "32       Fruits/Healthy/Copy of DSC_1986.jpg    Healthy\n",
              "37    Fruits/Healthy/IMG-20160108-WA0006.jpg    Healthy\n",
              "36       Fruits/Healthy/Copy of DSC_1981.jpg    Healthy\n",
              "14  Fruits/Bacterial/IMG-20150601-WA0002.jpg  Bacterial\n",
              "3                 Fruits/Fungal/IMG_5601.jpg     Fungal\n",
              "9      Fruits/Fungal/IMG-20170816-WA0012.jpg     Fungal\n",
              "20  Fruits/Bacterial/IMG-20190128-WA0013.jpg  Bacterial\n",
              "23  Fruits/Bacterial/IMG-20190128-WA0019.jpg  Bacterial\n",
              "18  Fruits/Bacterial/IMG-20181119-WA0011.jpg  Bacterial\n",
              "28          Fruits/Bacterial/DSC_2003(1).jpg  Bacterial\n",
              "33       Fruits/Healthy/Copy of DSC_1985.jpg    Healthy\n",
              "38    Fruits/Healthy/IMG-20160108-WA0009.jpg    Healthy\n",
              "11     Fruits/Fungal/IMG-20170222-WA0030.jpg     Fungal\n",
              "12     Fruits/Fungal/IMG-20170225-WA0039.jpg     Fungal\n",
              "41    Fruits/Healthy/IMG-20160108-WA0019.jpg    Healthy\n",
              "8                 Fruits/Fungal/IMG_5627.jpg     Fungal\n",
              "0                 Fruits/Fungal/IMG_5635.jpg     Fungal\n",
              "25             Fruits/Bacterial/P8090031.jpg  Bacterial\n",
              "15  Fruits/Bacterial/IMG-20170706-WA0052.jpg  Bacterial\n",
              "21  Fruits/Bacterial/IMG-20190128-WA0009.jpg  Bacterial\n",
              "2                 Fruits/Fungal/IMG_5605.jpg     Fungal\n",
              "31          Fruits/Bacterial/DSC_2022(1).jpg  Bacterial\n",
              "4                 Fruits/Fungal/IMG_5585.jpg     Fungal\n",
              "24             Fruits/Bacterial/P8090030.jpg  Bacterial\n",
              "26             Fruits/Bacterial/P8090032.jpg  Bacterial\n",
              "13                Fruits/Fungal/DSC_0234.jpg     Fungal\n",
              "27          Fruits/Bacterial/DSC_2001(1).jpg  Bacterial\n",
              "6                 Fruits/Fungal/IMG_5637.jpg     Fungal\n",
              "40    Fruits/Healthy/IMG-20160108-WA0011.jpg    Healthy\n",
              "17  Fruits/Bacterial/IMG-20170706-WA0055.jpg  Bacterial\n",
              "22  Fruits/Bacterial/IMG-20190128-WA0011.jpg  Bacterial\n",
              "34       Fruits/Healthy/Copy of DSC_1983.jpg    Healthy\n",
              "35       Fruits/Healthy/Copy of DSC_1982.jpg    Healthy\n",
              "10     Fruits/Fungal/IMG-20170225-WA0040.jpg     Fungal"
            ],
            "text/html": [
              "\n",
              "  <div id=\"df-aa9da701-9700-48b7-a018-d28a55799b3a\">\n",
              "    <div class=\"colab-df-container\">\n",
              "      <div>\n",
              "<style scoped>\n",
              "    .dataframe tbody tr th:only-of-type {\n",
              "        vertical-align: middle;\n",
              "    }\n",
              "\n",
              "    .dataframe tbody tr th {\n",
              "        vertical-align: top;\n",
              "    }\n",
              "\n",
              "    .dataframe thead th {\n",
              "        text-align: right;\n",
              "    }\n",
              "</style>\n",
              "<table border=\"1\" class=\"dataframe\">\n",
              "  <thead>\n",
              "    <tr style=\"text-align: right;\">\n",
              "      <th></th>\n",
              "      <th>ID</th>\n",
              "      <th>label</th>\n",
              "    </tr>\n",
              "  </thead>\n",
              "  <tbody>\n",
              "    <tr>\n",
              "      <th>39</th>\n",
              "      <td>Fruits/Healthy/IMG-20160108-WA0010.jpg</td>\n",
              "      <td>Healthy</td>\n",
              "    </tr>\n",
              "    <tr>\n",
              "      <th>7</th>\n",
              "      <td>Fruits/Fungal/IMG_5602.jpg</td>\n",
              "      <td>Fungal</td>\n",
              "    </tr>\n",
              "    <tr>\n",
              "      <th>29</th>\n",
              "      <td>Fruits/Bacterial/DSC_2004.jpg</td>\n",
              "      <td>Bacterial</td>\n",
              "    </tr>\n",
              "    <tr>\n",
              "      <th>16</th>\n",
              "      <td>Fruits/Bacterial/IMG-20170706-WA0054.jpg</td>\n",
              "      <td>Bacterial</td>\n",
              "    </tr>\n",
              "    <tr>\n",
              "      <th>30</th>\n",
              "      <td>Fruits/Bacterial/DSC_2005(1).jpg</td>\n",
              "      <td>Bacterial</td>\n",
              "    </tr>\n",
              "    <tr>\n",
              "      <th>19</th>\n",
              "      <td>Fruits/Bacterial/IMG-20181119-WA0012.jpg</td>\n",
              "      <td>Bacterial</td>\n",
              "    </tr>\n",
              "    <tr>\n",
              "      <th>5</th>\n",
              "      <td>Fruits/Fungal/IMG_5662.jpg</td>\n",
              "      <td>Fungal</td>\n",
              "    </tr>\n",
              "    <tr>\n",
              "      <th>1</th>\n",
              "      <td>Fruits/Fungal/IMG_5616.jpg</td>\n",
              "      <td>Fungal</td>\n",
              "    </tr>\n",
              "    <tr>\n",
              "      <th>32</th>\n",
              "      <td>Fruits/Healthy/Copy of DSC_1986.jpg</td>\n",
              "      <td>Healthy</td>\n",
              "    </tr>\n",
              "    <tr>\n",
              "      <th>37</th>\n",
              "      <td>Fruits/Healthy/IMG-20160108-WA0006.jpg</td>\n",
              "      <td>Healthy</td>\n",
              "    </tr>\n",
              "    <tr>\n",
              "      <th>36</th>\n",
              "      <td>Fruits/Healthy/Copy of DSC_1981.jpg</td>\n",
              "      <td>Healthy</td>\n",
              "    </tr>\n",
              "    <tr>\n",
              "      <th>14</th>\n",
              "      <td>Fruits/Bacterial/IMG-20150601-WA0002.jpg</td>\n",
              "      <td>Bacterial</td>\n",
              "    </tr>\n",
              "    <tr>\n",
              "      <th>3</th>\n",
              "      <td>Fruits/Fungal/IMG_5601.jpg</td>\n",
              "      <td>Fungal</td>\n",
              "    </tr>\n",
              "    <tr>\n",
              "      <th>9</th>\n",
              "      <td>Fruits/Fungal/IMG-20170816-WA0012.jpg</td>\n",
              "      <td>Fungal</td>\n",
              "    </tr>\n",
              "    <tr>\n",
              "      <th>20</th>\n",
              "      <td>Fruits/Bacterial/IMG-20190128-WA0013.jpg</td>\n",
              "      <td>Bacterial</td>\n",
              "    </tr>\n",
              "    <tr>\n",
              "      <th>23</th>\n",
              "      <td>Fruits/Bacterial/IMG-20190128-WA0019.jpg</td>\n",
              "      <td>Bacterial</td>\n",
              "    </tr>\n",
              "    <tr>\n",
              "      <th>18</th>\n",
              "      <td>Fruits/Bacterial/IMG-20181119-WA0011.jpg</td>\n",
              "      <td>Bacterial</td>\n",
              "    </tr>\n",
              "    <tr>\n",
              "      <th>28</th>\n",
              "      <td>Fruits/Bacterial/DSC_2003(1).jpg</td>\n",
              "      <td>Bacterial</td>\n",
              "    </tr>\n",
              "    <tr>\n",
              "      <th>33</th>\n",
              "      <td>Fruits/Healthy/Copy of DSC_1985.jpg</td>\n",
              "      <td>Healthy</td>\n",
              "    </tr>\n",
              "    <tr>\n",
              "      <th>38</th>\n",
              "      <td>Fruits/Healthy/IMG-20160108-WA0009.jpg</td>\n",
              "      <td>Healthy</td>\n",
              "    </tr>\n",
              "    <tr>\n",
              "      <th>11</th>\n",
              "      <td>Fruits/Fungal/IMG-20170222-WA0030.jpg</td>\n",
              "      <td>Fungal</td>\n",
              "    </tr>\n",
              "    <tr>\n",
              "      <th>12</th>\n",
              "      <td>Fruits/Fungal/IMG-20170225-WA0039.jpg</td>\n",
              "      <td>Fungal</td>\n",
              "    </tr>\n",
              "    <tr>\n",
              "      <th>41</th>\n",
              "      <td>Fruits/Healthy/IMG-20160108-WA0019.jpg</td>\n",
              "      <td>Healthy</td>\n",
              "    </tr>\n",
              "    <tr>\n",
              "      <th>8</th>\n",
              "      <td>Fruits/Fungal/IMG_5627.jpg</td>\n",
              "      <td>Fungal</td>\n",
              "    </tr>\n",
              "    <tr>\n",
              "      <th>0</th>\n",
              "      <td>Fruits/Fungal/IMG_5635.jpg</td>\n",
              "      <td>Fungal</td>\n",
              "    </tr>\n",
              "    <tr>\n",
              "      <th>25</th>\n",
              "      <td>Fruits/Bacterial/P8090031.jpg</td>\n",
              "      <td>Bacterial</td>\n",
              "    </tr>\n",
              "    <tr>\n",
              "      <th>15</th>\n",
              "      <td>Fruits/Bacterial/IMG-20170706-WA0052.jpg</td>\n",
              "      <td>Bacterial</td>\n",
              "    </tr>\n",
              "    <tr>\n",
              "      <th>21</th>\n",
              "      <td>Fruits/Bacterial/IMG-20190128-WA0009.jpg</td>\n",
              "      <td>Bacterial</td>\n",
              "    </tr>\n",
              "    <tr>\n",
              "      <th>2</th>\n",
              "      <td>Fruits/Fungal/IMG_5605.jpg</td>\n",
              "      <td>Fungal</td>\n",
              "    </tr>\n",
              "    <tr>\n",
              "      <th>31</th>\n",
              "      <td>Fruits/Bacterial/DSC_2022(1).jpg</td>\n",
              "      <td>Bacterial</td>\n",
              "    </tr>\n",
              "    <tr>\n",
              "      <th>4</th>\n",
              "      <td>Fruits/Fungal/IMG_5585.jpg</td>\n",
              "      <td>Fungal</td>\n",
              "    </tr>\n",
              "    <tr>\n",
              "      <th>24</th>\n",
              "      <td>Fruits/Bacterial/P8090030.jpg</td>\n",
              "      <td>Bacterial</td>\n",
              "    </tr>\n",
              "    <tr>\n",
              "      <th>26</th>\n",
              "      <td>Fruits/Bacterial/P8090032.jpg</td>\n",
              "      <td>Bacterial</td>\n",
              "    </tr>\n",
              "    <tr>\n",
              "      <th>13</th>\n",
              "      <td>Fruits/Fungal/DSC_0234.jpg</td>\n",
              "      <td>Fungal</td>\n",
              "    </tr>\n",
              "    <tr>\n",
              "      <th>27</th>\n",
              "      <td>Fruits/Bacterial/DSC_2001(1).jpg</td>\n",
              "      <td>Bacterial</td>\n",
              "    </tr>\n",
              "    <tr>\n",
              "      <th>6</th>\n",
              "      <td>Fruits/Fungal/IMG_5637.jpg</td>\n",
              "      <td>Fungal</td>\n",
              "    </tr>\n",
              "    <tr>\n",
              "      <th>40</th>\n",
              "      <td>Fruits/Healthy/IMG-20160108-WA0011.jpg</td>\n",
              "      <td>Healthy</td>\n",
              "    </tr>\n",
              "    <tr>\n",
              "      <th>17</th>\n",
              "      <td>Fruits/Bacterial/IMG-20170706-WA0055.jpg</td>\n",
              "      <td>Bacterial</td>\n",
              "    </tr>\n",
              "    <tr>\n",
              "      <th>22</th>\n",
              "      <td>Fruits/Bacterial/IMG-20190128-WA0011.jpg</td>\n",
              "      <td>Bacterial</td>\n",
              "    </tr>\n",
              "    <tr>\n",
              "      <th>34</th>\n",
              "      <td>Fruits/Healthy/Copy of DSC_1983.jpg</td>\n",
              "      <td>Healthy</td>\n",
              "    </tr>\n",
              "    <tr>\n",
              "      <th>35</th>\n",
              "      <td>Fruits/Healthy/Copy of DSC_1982.jpg</td>\n",
              "      <td>Healthy</td>\n",
              "    </tr>\n",
              "    <tr>\n",
              "      <th>10</th>\n",
              "      <td>Fruits/Fungal/IMG-20170225-WA0040.jpg</td>\n",
              "      <td>Fungal</td>\n",
              "    </tr>\n",
              "  </tbody>\n",
              "</table>\n",
              "</div>\n",
              "      <button class=\"colab-df-convert\" onclick=\"convertToInteractive('df-aa9da701-9700-48b7-a018-d28a55799b3a')\"\n",
              "              title=\"Convert this dataframe to an interactive table.\"\n",
              "              style=\"display:none;\">\n",
              "        \n",
              "  <svg xmlns=\"http://www.w3.org/2000/svg\" height=\"24px\"viewBox=\"0 0 24 24\"\n",
              "       width=\"24px\">\n",
              "    <path d=\"M0 0h24v24H0V0z\" fill=\"none\"/>\n",
              "    <path d=\"M18.56 5.44l.94 2.06.94-2.06 2.06-.94-2.06-.94-.94-2.06-.94 2.06-2.06.94zm-11 1L8.5 8.5l.94-2.06 2.06-.94-2.06-.94L8.5 2.5l-.94 2.06-2.06.94zm10 10l.94 2.06.94-2.06 2.06-.94-2.06-.94-.94-2.06-.94 2.06-2.06.94z\"/><path d=\"M17.41 7.96l-1.37-1.37c-.4-.4-.92-.59-1.43-.59-.52 0-1.04.2-1.43.59L10.3 9.45l-7.72 7.72c-.78.78-.78 2.05 0 2.83L4 21.41c.39.39.9.59 1.41.59.51 0 1.02-.2 1.41-.59l7.78-7.78 2.81-2.81c.8-.78.8-2.07 0-2.86zM5.41 20L4 18.59l7.72-7.72 1.47 1.35L5.41 20z\"/>\n",
              "  </svg>\n",
              "      </button>\n",
              "      \n",
              "  <style>\n",
              "    .colab-df-container {\n",
              "      display:flex;\n",
              "      flex-wrap:wrap;\n",
              "      gap: 12px;\n",
              "    }\n",
              "\n",
              "    .colab-df-convert {\n",
              "      background-color: #E8F0FE;\n",
              "      border: none;\n",
              "      border-radius: 50%;\n",
              "      cursor: pointer;\n",
              "      display: none;\n",
              "      fill: #1967D2;\n",
              "      height: 32px;\n",
              "      padding: 0 0 0 0;\n",
              "      width: 32px;\n",
              "    }\n",
              "\n",
              "    .colab-df-convert:hover {\n",
              "      background-color: #E2EBFA;\n",
              "      box-shadow: 0px 1px 2px rgba(60, 64, 67, 0.3), 0px 1px 3px 1px rgba(60, 64, 67, 0.15);\n",
              "      fill: #174EA6;\n",
              "    }\n",
              "\n",
              "    [theme=dark] .colab-df-convert {\n",
              "      background-color: #3B4455;\n",
              "      fill: #D2E3FC;\n",
              "    }\n",
              "\n",
              "    [theme=dark] .colab-df-convert:hover {\n",
              "      background-color: #434B5C;\n",
              "      box-shadow: 0px 1px 3px 1px rgba(0, 0, 0, 0.15);\n",
              "      filter: drop-shadow(0px 1px 2px rgba(0, 0, 0, 0.3));\n",
              "      fill: #FFFFFF;\n",
              "    }\n",
              "  </style>\n",
              "\n",
              "      <script>\n",
              "        const buttonEl =\n",
              "          document.querySelector('#df-aa9da701-9700-48b7-a018-d28a55799b3a button.colab-df-convert');\n",
              "        buttonEl.style.display =\n",
              "          google.colab.kernel.accessAllowed ? 'block' : 'none';\n",
              "\n",
              "        async function convertToInteractive(key) {\n",
              "          const element = document.querySelector('#df-aa9da701-9700-48b7-a018-d28a55799b3a');\n",
              "          const dataTable =\n",
              "            await google.colab.kernel.invokeFunction('convertToInteractive',\n",
              "                                                     [key], {});\n",
              "          if (!dataTable) return;\n",
              "\n",
              "          const docLinkHtml = 'Like what you see? Visit the ' +\n",
              "            '<a target=\"_blank\" href=https://colab.research.google.com/notebooks/data_table.ipynb>data table notebook</a>'\n",
              "            + ' to learn more about interactive tables.';\n",
              "          element.innerHTML = '';\n",
              "          dataTable['output_type'] = 'display_data';\n",
              "          await google.colab.output.renderOutput(dataTable, element);\n",
              "          const docLink = document.createElement('div');\n",
              "          docLink.innerHTML = docLinkHtml;\n",
              "          element.appendChild(docLink);\n",
              "        }\n",
              "      </script>\n",
              "    </div>\n",
              "  </div>\n",
              "  "
            ]
          },
          "metadata": {},
          "execution_count": 25
        }
      ]
    },
    {
      "cell_type": "code",
      "execution_count": null,
      "metadata": {
        "id": "6vm0BBtm3q99",
        "colab": {
          "base_uri": "https://localhost:8080/"
        },
        "outputId": "ec351cd3-df5f-4c00-bb2d-5b2cc99f3baa"
      },
      "outputs": [
        {
          "output_type": "execute_result",
          "data": {
            "text/plain": [
              "42"
            ]
          },
          "metadata": {},
          "execution_count": 26
        }
      ],
      "source": [
        "\n",
        "len(labels)\n",
        "len(labels_test)"
      ]
    },
    {
      "cell_type": "code",
      "execution_count": null,
      "metadata": {
        "id": "T_J0sZem9xsR",
        "colab": {
          "base_uri": "https://localhost:8080/"
        },
        "outputId": "0096484c-084b-474c-cdec-627048e9ab00"
      },
      "outputs": [
        {
          "output_type": "execute_result",
          "data": {
            "text/plain": [
              "3"
            ]
          },
          "metadata": {},
          "execution_count": 27
        }
      ],
      "source": [
        "unique_breeds = np.unique(labels)\n",
        "len(unique_breeds)\n",
        "\n"
      ]
    },
    {
      "cell_type": "code",
      "source": [
        "unique_breeds_test = np.unique(labels_test)\n",
        "len(unique_breeds_test)"
      ],
      "metadata": {
        "colab": {
          "base_uri": "https://localhost:8080/"
        },
        "id": "k3Xw2piLxWI8",
        "outputId": "83cc4e1a-6985-499f-caca-f0b5869e785e"
      },
      "execution_count": null,
      "outputs": [
        {
          "output_type": "execute_result",
          "data": {
            "text/plain": [
              "3"
            ]
          },
          "metadata": {},
          "execution_count": 28
        }
      ]
    },
    {
      "cell_type": "code",
      "execution_count": null,
      "metadata": {
        "id": "4-zoPjkB3y1w",
        "colab": {
          "base_uri": "https://localhost:8080/"
        },
        "outputId": "a4aed5ff-3e50-490c-c03d-c0d453c0699d"
      },
      "outputs": [
        {
          "output_type": "stream",
          "name": "stdout",
          "text": [
            "Fungal\n"
          ]
        },
        {
          "output_type": "execute_result",
          "data": {
            "text/plain": [
              "array([False,  True, False])"
            ]
          },
          "metadata": {},
          "execution_count": 29
        }
      ],
      "source": [
        "print(labels[0])\n",
        "labels[0] == unique_breeds\n",
        ""
      ]
    },
    {
      "cell_type": "code",
      "source": [
        "print(labels_test[0])\n",
        "labels_test[0] == unique_breeds_test"
      ],
      "metadata": {
        "colab": {
          "base_uri": "https://localhost:8080/"
        },
        "id": "9tu9BOFFxgw2",
        "outputId": "f6b3c40e-c1cf-4583-8a7f-e0fadbf35c11"
      },
      "execution_count": null,
      "outputs": [
        {
          "output_type": "stream",
          "name": "stdout",
          "text": [
            "Fungal\n"
          ]
        },
        {
          "output_type": "execute_result",
          "data": {
            "text/plain": [
              "array([False,  True, False])"
            ]
          },
          "metadata": {},
          "execution_count": 30
        }
      ]
    },
    {
      "cell_type": "code",
      "execution_count": null,
      "metadata": {
        "id": "Y_m-kDOb92bT",
        "colab": {
          "base_uri": "https://localhost:8080/"
        },
        "outputId": "8c9b69fb-1c98-410b-f116-173615893979"
      },
      "outputs": [
        {
          "output_type": "execute_result",
          "data": {
            "text/plain": [
              "377"
            ]
          },
          "metadata": {},
          "execution_count": 31
        }
      ],
      "source": [
        "boolean_labels = [label == unique_breeds for label in labels]\n",
        "len(boolean_labels)"
      ]
    },
    {
      "cell_type": "code",
      "source": [
        "boolean_labels_test = [label == unique_breeds_test for label in labels_test]\n",
        "len(boolean_labels_test)"
      ],
      "metadata": {
        "colab": {
          "base_uri": "https://localhost:8080/"
        },
        "id": "NBlCD5i6xxiP",
        "outputId": "ce849d10-f99c-459d-ad32-f459325fdb52"
      },
      "execution_count": null,
      "outputs": [
        {
          "output_type": "execute_result",
          "data": {
            "text/plain": [
              "42"
            ]
          },
          "metadata": {},
          "execution_count": 32
        }
      ]
    },
    {
      "cell_type": "code",
      "execution_count": null,
      "metadata": {
        "id": "YiqW2QZv0riD",
        "colab": {
          "base_uri": "https://localhost:8080/"
        },
        "outputId": "e75a2aab-0f1c-4a75-80ba-a5621d4b47cd"
      },
      "outputs": [
        {
          "output_type": "execute_result",
          "data": {
            "text/plain": [
              "(2130, 2130, 3)"
            ]
          },
          "metadata": {},
          "execution_count": 33
        }
      ],
      "source": [
        "from matplotlib.pyplot import imread\n",
        "image = imread(healthy_filenames[42])\n",
        "image.shape"
      ]
    },
    {
      "cell_type": "code",
      "execution_count": null,
      "metadata": {
        "id": "gJc9FWoT04YG",
        "colab": {
          "base_uri": "https://localhost:8080/"
        },
        "outputId": "0e03f218-e611-41fa-bf93-688e2a8e1382"
      },
      "outputs": [
        {
          "output_type": "execute_result",
          "data": {
            "text/plain": [
              "<tf.Tensor: shape=(2130, 2130, 3), dtype=uint8, numpy=\n",
              "array([[[239, 234, 230],\n",
              "        [239, 234, 230],\n",
              "        [239, 234, 230],\n",
              "        ...,\n",
              "        [237, 232, 228],\n",
              "        [239, 234, 230],\n",
              "        [239, 234, 230]],\n",
              "\n",
              "       [[239, 234, 230],\n",
              "        [239, 234, 230],\n",
              "        [239, 234, 230],\n",
              "        ...,\n",
              "        [237, 232, 228],\n",
              "        [239, 234, 230],\n",
              "        [239, 234, 230]],\n",
              "\n",
              "       [[239, 234, 230],\n",
              "        [239, 234, 230],\n",
              "        [239, 234, 230],\n",
              "        ...,\n",
              "        [237, 232, 228],\n",
              "        [239, 234, 230],\n",
              "        [239, 234, 230]],\n",
              "\n",
              "       ...,\n",
              "\n",
              "       [[228, 219, 212],\n",
              "        [228, 219, 212],\n",
              "        [228, 219, 212],\n",
              "        ...,\n",
              "        [230, 221, 214],\n",
              "        [230, 221, 214],\n",
              "        [230, 221, 214]],\n",
              "\n",
              "       [[228, 219, 212],\n",
              "        [228, 219, 212],\n",
              "        [228, 219, 212],\n",
              "        ...,\n",
              "        [230, 221, 214],\n",
              "        [230, 220, 218],\n",
              "        [230, 220, 218]],\n",
              "\n",
              "       [[228, 219, 212],\n",
              "        [228, 219, 212],\n",
              "        [228, 219, 212],\n",
              "        ...,\n",
              "        [230, 221, 214],\n",
              "        [230, 220, 218],\n",
              "        [230, 220, 218]]], dtype=uint8)>"
            ]
          },
          "metadata": {},
          "execution_count": 34
        }
      ],
      "source": [
        "tf.constant(image)\n"
      ]
    },
    {
      "cell_type": "code",
      "execution_count": null,
      "metadata": {
        "id": "CJvqMaYB08RZ"
      },
      "outputs": [],
      "source": [
        "IMG_SIZE = 224\n",
        "\n",
        "# Create a function for preprocessing images\n",
        "def process_image(image_path):\n",
        "  \"\"\"\n",
        "  Takes an image file path and turns the image into a Tensor.\n",
        "  \"\"\"\n",
        "  # Read an image file\n",
        "  image = tf.io.read_file(image_path)\n",
        "  # Turn the jpeg image into numerical Tensor with 3 colour channels (Red, Gree, Blue)\n",
        "  image = tf.image.decode_jpeg(image, channels=3)\n",
        "  # Convert the colour channel values from 0-255 to 0-1 values (Normalization)\n",
        "  image = tf.image.convert_image_dtype(image, tf.float32)\n",
        "  # Resize the image to our desired value (224,224)\n",
        "  image = tf.image.resize(image, size=[IMG_SIZE, IMG_SIZE])\n",
        "\n",
        "  return image\n",
        ""
      ]
    },
    {
      "cell_type": "code",
      "execution_count": null,
      "metadata": {
        "id": "LVykP4T51fIc"
      },
      "outputs": [],
      "source": [
        "def get_image_label(image_path, label):\n",
        "  image = process_image(image_path)\n",
        "  return image, label"
      ]
    },
    {
      "cell_type": "code",
      "execution_count": null,
      "metadata": {
        "id": "KOxhJ7CA3N3E",
        "colab": {
          "base_uri": "https://localhost:8080/"
        },
        "outputId": "a1f5e32a-5661-4e70-8d83-231adfc1ebe5"
      },
      "outputs": [
        {
          "output_type": "execute_result",
          "data": {
            "text/plain": [
              "(377, 377)"
            ]
          },
          "metadata": {},
          "execution_count": 90
        }
      ],
      "source": [
        "from sklearn.model_selection import train_test_split\n",
        "X_train = frames['ID']\n",
        "y_train = boolean_labels\n",
        "# X_train, X_val, y_train, y_val = train_test_split(X_train[:376],\n",
        "#                                                   y_train[:376],\n",
        "#                                                   test_size=0.1,\n",
        "#                                                   random_state=42)\n",
        "\n",
        "\n",
        "len(X_train), len(y_train)"
      ]
    },
    {
      "cell_type": "code",
      "source": [
        "X_test = frames_test['ID']\n",
        "y_test = boolean_labels_test"
      ],
      "metadata": {
        "id": "9r2Dzvx90pEK"
      },
      "execution_count": null,
      "outputs": []
    },
    {
      "cell_type": "code",
      "execution_count": null,
      "metadata": {
        "id": "9iv8nMYO3WCy",
        "colab": {
          "base_uri": "https://localhost:8080/",
          "height": 423
        },
        "outputId": "8feb9cba-2953-4327-ca38-784856ec436d"
      },
      "outputs": [
        {
          "output_type": "execute_result",
          "data": {
            "text/plain": [
              "                                      ID      label\n",
              "62            Fruits/Fungal/DSC_5952.jpg     Fungal\n",
              "324  Fruits/Healthy/Copy of DSC_5920.jpg    Healthy\n",
              "69            Fruits/Fungal/DSC_7775.jpg     Fungal\n",
              "296  Fruits/Healthy/Copy of DSC09556.jpg    Healthy\n",
              "64            Fruits/Fungal/DSC_5942.jpg     Fungal\n",
              "..                                   ...        ...\n",
              "23            Fruits/Fungal/DSC_5980.jpg     Fungal\n",
              "44            Fruits/Fungal/DSC_5978.jpg     Fungal\n",
              "340  Fruits/Healthy/Copy of DSC_2114.jpg    Healthy\n",
              "208        Fruits/Bacterial/DSC00009.jpg  Bacterial\n",
              "297  Fruits/Healthy/Copy of DSC_9608.jpg    Healthy\n",
              "\n",
              "[377 rows x 2 columns]"
            ],
            "text/html": [
              "\n",
              "  <div id=\"df-a6a620c4-3b85-447c-82f2-7cfbee4feb51\">\n",
              "    <div class=\"colab-df-container\">\n",
              "      <div>\n",
              "<style scoped>\n",
              "    .dataframe tbody tr th:only-of-type {\n",
              "        vertical-align: middle;\n",
              "    }\n",
              "\n",
              "    .dataframe tbody tr th {\n",
              "        vertical-align: top;\n",
              "    }\n",
              "\n",
              "    .dataframe thead th {\n",
              "        text-align: right;\n",
              "    }\n",
              "</style>\n",
              "<table border=\"1\" class=\"dataframe\">\n",
              "  <thead>\n",
              "    <tr style=\"text-align: right;\">\n",
              "      <th></th>\n",
              "      <th>ID</th>\n",
              "      <th>label</th>\n",
              "    </tr>\n",
              "  </thead>\n",
              "  <tbody>\n",
              "    <tr>\n",
              "      <th>62</th>\n",
              "      <td>Fruits/Fungal/DSC_5952.jpg</td>\n",
              "      <td>Fungal</td>\n",
              "    </tr>\n",
              "    <tr>\n",
              "      <th>324</th>\n",
              "      <td>Fruits/Healthy/Copy of DSC_5920.jpg</td>\n",
              "      <td>Healthy</td>\n",
              "    </tr>\n",
              "    <tr>\n",
              "      <th>69</th>\n",
              "      <td>Fruits/Fungal/DSC_7775.jpg</td>\n",
              "      <td>Fungal</td>\n",
              "    </tr>\n",
              "    <tr>\n",
              "      <th>296</th>\n",
              "      <td>Fruits/Healthy/Copy of DSC09556.jpg</td>\n",
              "      <td>Healthy</td>\n",
              "    </tr>\n",
              "    <tr>\n",
              "      <th>64</th>\n",
              "      <td>Fruits/Fungal/DSC_5942.jpg</td>\n",
              "      <td>Fungal</td>\n",
              "    </tr>\n",
              "    <tr>\n",
              "      <th>...</th>\n",
              "      <td>...</td>\n",
              "      <td>...</td>\n",
              "    </tr>\n",
              "    <tr>\n",
              "      <th>23</th>\n",
              "      <td>Fruits/Fungal/DSC_5980.jpg</td>\n",
              "      <td>Fungal</td>\n",
              "    </tr>\n",
              "    <tr>\n",
              "      <th>44</th>\n",
              "      <td>Fruits/Fungal/DSC_5978.jpg</td>\n",
              "      <td>Fungal</td>\n",
              "    </tr>\n",
              "    <tr>\n",
              "      <th>340</th>\n",
              "      <td>Fruits/Healthy/Copy of DSC_2114.jpg</td>\n",
              "      <td>Healthy</td>\n",
              "    </tr>\n",
              "    <tr>\n",
              "      <th>208</th>\n",
              "      <td>Fruits/Bacterial/DSC00009.jpg</td>\n",
              "      <td>Bacterial</td>\n",
              "    </tr>\n",
              "    <tr>\n",
              "      <th>297</th>\n",
              "      <td>Fruits/Healthy/Copy of DSC_9608.jpg</td>\n",
              "      <td>Healthy</td>\n",
              "    </tr>\n",
              "  </tbody>\n",
              "</table>\n",
              "<p>377 rows × 2 columns</p>\n",
              "</div>\n",
              "      <button class=\"colab-df-convert\" onclick=\"convertToInteractive('df-a6a620c4-3b85-447c-82f2-7cfbee4feb51')\"\n",
              "              title=\"Convert this dataframe to an interactive table.\"\n",
              "              style=\"display:none;\">\n",
              "        \n",
              "  <svg xmlns=\"http://www.w3.org/2000/svg\" height=\"24px\"viewBox=\"0 0 24 24\"\n",
              "       width=\"24px\">\n",
              "    <path d=\"M0 0h24v24H0V0z\" fill=\"none\"/>\n",
              "    <path d=\"M18.56 5.44l.94 2.06.94-2.06 2.06-.94-2.06-.94-.94-2.06-.94 2.06-2.06.94zm-11 1L8.5 8.5l.94-2.06 2.06-.94-2.06-.94L8.5 2.5l-.94 2.06-2.06.94zm10 10l.94 2.06.94-2.06 2.06-.94-2.06-.94-.94-2.06-.94 2.06-2.06.94z\"/><path d=\"M17.41 7.96l-1.37-1.37c-.4-.4-.92-.59-1.43-.59-.52 0-1.04.2-1.43.59L10.3 9.45l-7.72 7.72c-.78.78-.78 2.05 0 2.83L4 21.41c.39.39.9.59 1.41.59.51 0 1.02-.2 1.41-.59l7.78-7.78 2.81-2.81c.8-.78.8-2.07 0-2.86zM5.41 20L4 18.59l7.72-7.72 1.47 1.35L5.41 20z\"/>\n",
              "  </svg>\n",
              "      </button>\n",
              "      \n",
              "  <style>\n",
              "    .colab-df-container {\n",
              "      display:flex;\n",
              "      flex-wrap:wrap;\n",
              "      gap: 12px;\n",
              "    }\n",
              "\n",
              "    .colab-df-convert {\n",
              "      background-color: #E8F0FE;\n",
              "      border: none;\n",
              "      border-radius: 50%;\n",
              "      cursor: pointer;\n",
              "      display: none;\n",
              "      fill: #1967D2;\n",
              "      height: 32px;\n",
              "      padding: 0 0 0 0;\n",
              "      width: 32px;\n",
              "    }\n",
              "\n",
              "    .colab-df-convert:hover {\n",
              "      background-color: #E2EBFA;\n",
              "      box-shadow: 0px 1px 2px rgba(60, 64, 67, 0.3), 0px 1px 3px 1px rgba(60, 64, 67, 0.15);\n",
              "      fill: #174EA6;\n",
              "    }\n",
              "\n",
              "    [theme=dark] .colab-df-convert {\n",
              "      background-color: #3B4455;\n",
              "      fill: #D2E3FC;\n",
              "    }\n",
              "\n",
              "    [theme=dark] .colab-df-convert:hover {\n",
              "      background-color: #434B5C;\n",
              "      box-shadow: 0px 1px 3px 1px rgba(0, 0, 0, 0.15);\n",
              "      filter: drop-shadow(0px 1px 2px rgba(0, 0, 0, 0.3));\n",
              "      fill: #FFFFFF;\n",
              "    }\n",
              "  </style>\n",
              "\n",
              "      <script>\n",
              "        const buttonEl =\n",
              "          document.querySelector('#df-a6a620c4-3b85-447c-82f2-7cfbee4feb51 button.colab-df-convert');\n",
              "        buttonEl.style.display =\n",
              "          google.colab.kernel.accessAllowed ? 'block' : 'none';\n",
              "\n",
              "        async function convertToInteractive(key) {\n",
              "          const element = document.querySelector('#df-a6a620c4-3b85-447c-82f2-7cfbee4feb51');\n",
              "          const dataTable =\n",
              "            await google.colab.kernel.invokeFunction('convertToInteractive',\n",
              "                                                     [key], {});\n",
              "          if (!dataTable) return;\n",
              "\n",
              "          const docLinkHtml = 'Like what you see? Visit the ' +\n",
              "            '<a target=\"_blank\" href=https://colab.research.google.com/notebooks/data_table.ipynb>data table notebook</a>'\n",
              "            + ' to learn more about interactive tables.';\n",
              "          element.innerHTML = '';\n",
              "          dataTable['output_type'] = 'display_data';\n",
              "          await google.colab.output.renderOutput(dataTable, element);\n",
              "          const docLink = document.createElement('div');\n",
              "          docLink.innerHTML = docLinkHtml;\n",
              "          element.appendChild(docLink);\n",
              "        }\n",
              "      </script>\n",
              "    </div>\n",
              "  </div>\n",
              "  "
            ]
          },
          "metadata": {},
          "execution_count": 92
        }
      ],
      "source": [
        "frames"
      ]
    },
    {
      "cell_type": "code",
      "execution_count": null,
      "metadata": {
        "id": "Chbg4KKz1j1z"
      },
      "outputs": [],
      "source": [
        "\n",
        "#len(X), len(y)"
      ]
    },
    {
      "cell_type": "code",
      "execution_count": null,
      "metadata": {
        "id": "nmUd0RfW8JiT",
        "colab": {
          "base_uri": "https://localhost:8080/"
        },
        "outputId": "91a8cd2b-ff5a-41ac-f35c-3c638e7b64a9"
      },
      "outputs": [
        {
          "output_type": "execute_result",
          "data": {
            "text/plain": [
              "62              Fruits/Fungal/DSC_5952.jpg\n",
              "324    Fruits/Healthy/Copy of DSC_5920.jpg\n",
              "69              Fruits/Fungal/DSC_7775.jpg\n",
              "296    Fruits/Healthy/Copy of DSC09556.jpg\n",
              "64              Fruits/Fungal/DSC_5942.jpg\n",
              "                      ...                 \n",
              "23              Fruits/Fungal/DSC_5980.jpg\n",
              "44              Fruits/Fungal/DSC_5978.jpg\n",
              "340    Fruits/Healthy/Copy of DSC_2114.jpg\n",
              "208          Fruits/Bacterial/DSC00009.jpg\n",
              "297    Fruits/Healthy/Copy of DSC_9608.jpg\n",
              "Name: ID, Length: 377, dtype: object"
            ]
          },
          "metadata": {},
          "execution_count": 94
        }
      ],
      "source": [
        "X_train"
      ]
    },
    {
      "cell_type": "code",
      "source": [
        "X_test"
      ],
      "metadata": {
        "colab": {
          "base_uri": "https://localhost:8080/"
        },
        "id": "gk53pEjJ04hv",
        "outputId": "5825b1d2-abec-4a5d-e01e-5af3fe57ab5f"
      },
      "execution_count": null,
      "outputs": [
        {
          "output_type": "execute_result",
          "data": {
            "text/plain": [
              "39      Fruits/Healthy/IMG-20160108-WA0010.jpg\n",
              "7                   Fruits/Fungal/IMG_5602.jpg\n",
              "29               Fruits/Bacterial/DSC_2004.jpg\n",
              "16    Fruits/Bacterial/IMG-20170706-WA0054.jpg\n",
              "30            Fruits/Bacterial/DSC_2005(1).jpg\n",
              "19    Fruits/Bacterial/IMG-20181119-WA0012.jpg\n",
              "5                   Fruits/Fungal/IMG_5662.jpg\n",
              "1                   Fruits/Fungal/IMG_5616.jpg\n",
              "32         Fruits/Healthy/Copy of DSC_1986.jpg\n",
              "37      Fruits/Healthy/IMG-20160108-WA0006.jpg\n",
              "36         Fruits/Healthy/Copy of DSC_1981.jpg\n",
              "14    Fruits/Bacterial/IMG-20150601-WA0002.jpg\n",
              "3                   Fruits/Fungal/IMG_5601.jpg\n",
              "9        Fruits/Fungal/IMG-20170816-WA0012.jpg\n",
              "20    Fruits/Bacterial/IMG-20190128-WA0013.jpg\n",
              "23    Fruits/Bacterial/IMG-20190128-WA0019.jpg\n",
              "18    Fruits/Bacterial/IMG-20181119-WA0011.jpg\n",
              "28            Fruits/Bacterial/DSC_2003(1).jpg\n",
              "33         Fruits/Healthy/Copy of DSC_1985.jpg\n",
              "38      Fruits/Healthy/IMG-20160108-WA0009.jpg\n",
              "11       Fruits/Fungal/IMG-20170222-WA0030.jpg\n",
              "12       Fruits/Fungal/IMG-20170225-WA0039.jpg\n",
              "41      Fruits/Healthy/IMG-20160108-WA0019.jpg\n",
              "8                   Fruits/Fungal/IMG_5627.jpg\n",
              "0                   Fruits/Fungal/IMG_5635.jpg\n",
              "25               Fruits/Bacterial/P8090031.jpg\n",
              "15    Fruits/Bacterial/IMG-20170706-WA0052.jpg\n",
              "21    Fruits/Bacterial/IMG-20190128-WA0009.jpg\n",
              "2                   Fruits/Fungal/IMG_5605.jpg\n",
              "31            Fruits/Bacterial/DSC_2022(1).jpg\n",
              "4                   Fruits/Fungal/IMG_5585.jpg\n",
              "24               Fruits/Bacterial/P8090030.jpg\n",
              "26               Fruits/Bacterial/P8090032.jpg\n",
              "13                  Fruits/Fungal/DSC_0234.jpg\n",
              "27            Fruits/Bacterial/DSC_2001(1).jpg\n",
              "6                   Fruits/Fungal/IMG_5637.jpg\n",
              "40      Fruits/Healthy/IMG-20160108-WA0011.jpg\n",
              "17    Fruits/Bacterial/IMG-20170706-WA0055.jpg\n",
              "22    Fruits/Bacterial/IMG-20190128-WA0011.jpg\n",
              "34         Fruits/Healthy/Copy of DSC_1983.jpg\n",
              "35         Fruits/Healthy/Copy of DSC_1982.jpg\n",
              "10       Fruits/Fungal/IMG-20170225-WA0040.jpg\n",
              "Name: ID, dtype: object"
            ]
          },
          "metadata": {},
          "execution_count": 95
        }
      ]
    },
    {
      "cell_type": "code",
      "execution_count": null,
      "metadata": {
        "id": "_iwK4BG_3d2d",
        "colab": {
          "base_uri": "https://localhost:8080/"
        },
        "outputId": "f2229705-4e9e-4d40-94a5-080628a74914"
      },
      "outputs": [
        {
          "output_type": "execute_result",
          "data": {
            "text/plain": [
              "(<tf.Tensor: shape=(224, 224, 3), dtype=float32, numpy=\n",
              " array([[[0.89291596, 0.89291596, 0.8870111 ],\n",
              "         [0.8912103 , 0.8961848 , 0.88816786],\n",
              "         [0.892367  , 0.8958684 , 0.8941177 ],\n",
              "         ...,\n",
              "         [0.8941177 , 0.8941177 , 0.8889639 ],\n",
              "         [0.8907898 , 0.8907898 , 0.88294667],\n",
              "         [0.89019614, 0.89019614, 0.882353  ]],\n",
              " \n",
              "        [[0.89019614, 0.8980393 , 0.8906163 ],\n",
              "         [0.89019614, 0.8980393 , 0.8862746 ],\n",
              "         [0.89278716, 0.89544827, 0.8883179 ],\n",
              "         ...,\n",
              "         [0.89278716, 0.89278716, 0.884944  ],\n",
              "         [0.89323837, 0.89323837, 0.8853952 ],\n",
              "         [0.8941177 , 0.8941177 , 0.8862746 ]],\n",
              " \n",
              "        [[0.89361376, 0.89361376, 0.8857706 ],\n",
              "         [0.8907976 , 0.89864075, 0.88687605],\n",
              "         [0.892297  , 0.8941177 , 0.88676226],\n",
              "         ...,\n",
              "         [0.8948161 , 0.8948161 , 0.88697296],\n",
              "         [0.8944264 , 0.8944264 , 0.88658327],\n",
              "         [0.8946218 , 0.8946218 , 0.88677865]],\n",
              " \n",
              "        ...,\n",
              " \n",
              "        [[0.88277316, 0.8941177 , 0.89019614],\n",
              "         [0.8862746 , 0.8941177 , 0.89019614],\n",
              "         [0.8802522 , 0.8941177 , 0.89019614],\n",
              "         ...,\n",
              "         [0.8878827 , 0.89572585, 0.8918043 ],\n",
              "         [0.89320815, 0.9010513 , 0.8911057 ],\n",
              "         [0.89060205, 0.8984452 , 0.8866805 ]],\n",
              " \n",
              "        [[0.8855384 , 0.89338154, 0.88945997],\n",
              "         [0.88018876, 0.8941177 , 0.89019614],\n",
              "         [0.88326335, 0.8911065 , 0.8871849 ],\n",
              "         ...,\n",
              "         [0.89019614, 0.8980393 , 0.89145803],\n",
              "         [0.89323884, 0.89323884, 0.89323884],\n",
              "         [0.89019614, 0.8980393 , 0.89145803]],\n",
              " \n",
              "        [[0.87529117, 0.89097744, 0.8870559 ],\n",
              "         [0.88553786, 0.893381  , 0.88945943],\n",
              "         [0.87792736, 0.89361364, 0.8940349 ],\n",
              "         ...,\n",
              "         [0.8911057 , 0.89894885, 0.8950273 ],\n",
              "         [0.8888663 , 0.89670944, 0.8901282 ],\n",
              "         [0.89236754, 0.9002107 , 0.8927888 ]]], dtype=float32)>,\n",
              " array([False,  True, False]))"
            ]
          },
          "metadata": {},
          "execution_count": 97
        }
      ],
      "source": [
        "get_image_label(X_train[38],y_train[38])"
      ]
    },
    {
      "cell_type": "code",
      "source": [
        "get_image_label(X_test[10],y_test[10])"
      ],
      "metadata": {
        "colab": {
          "base_uri": "https://localhost:8080/"
        },
        "id": "mOqKh7tPT63g",
        "outputId": "f475cafe-8b56-4743-d5b5-e8a38fd56ed0"
      },
      "execution_count": null,
      "outputs": [
        {
          "output_type": "execute_result",
          "data": {
            "text/plain": [
              "(<tf.Tensor: shape=(224, 224, 3), dtype=float32, numpy=\n",
              " array([[[0.1402325 , 0.30885997, 0.13120694],\n",
              "         [0.12650983, 0.28450632, 0.11056338],\n",
              "         [0.15734069, 0.29951504, 0.12375522],\n",
              "         ...,\n",
              "         [0.10398986, 0.25400746, 0.01864296],\n",
              "         [0.13653933, 0.25142017, 0.04380477],\n",
              "         [0.16317728, 0.2729812 , 0.0729812 ]],\n",
              " \n",
              "        [[0.13927244, 0.2989013 , 0.10683617],\n",
              "         [0.14446296, 0.29665616, 0.10734568],\n",
              "         [0.14815818, 0.28436086, 0.09837005],\n",
              "         ...,\n",
              "         [0.14581469, 0.28586882, 0.05404081],\n",
              "         [0.17769337, 0.2826803 , 0.06976029],\n",
              "         [0.26927027, 0.36753708, 0.16223244]],\n",
              " \n",
              "        [[0.13256304, 0.28186977, 0.07149336],\n",
              "         [0.13838926, 0.28448522, 0.0794993 ],\n",
              "         [0.11143192, 0.24116765, 0.04409131],\n",
              "         ...,\n",
              "         [0.16982745, 0.28772822, 0.07320575],\n",
              "         [0.21639927, 0.30479378, 0.09996551],\n",
              "         [0.25217155, 0.330386  , 0.13420403]],\n",
              " \n",
              "        ...,\n",
              " \n",
              "        [[0.61178666, 0.588659  , 0.39433774],\n",
              "         [0.7580077 , 0.7159389 , 0.50394636],\n",
              "         [0.7366796 , 0.7030298 , 0.4668078 ],\n",
              "         ...,\n",
              "         [0.06654384, 0.14105365, 0.0248946 ],\n",
              "         [0.07607511, 0.1505849 , 0.0308756 ],\n",
              "         [0.06393898, 0.13844879, 0.01816507]],\n",
              " \n",
              "        [[0.5921129 , 0.4524173 , 0.2211913 ],\n",
              "         [0.58137   , 0.41067615, 0.17243594],\n",
              "         [0.5874038 , 0.42685178, 0.17063671],\n",
              "         ...,\n",
              "         [0.06264569, 0.1371555 , 0.01950843],\n",
              "         [0.06881674, 0.14332655, 0.02567949],\n",
              "         [0.05518355, 0.12969336, 0.01356514]],\n",
              " \n",
              "        [[0.5621016 , 0.35287488, 0.12896043],\n",
              "         [0.55774474, 0.31561556, 0.08939033],\n",
              "         [0.5496701 , 0.31401828, 0.0692478 ],\n",
              "         ...,\n",
              "         [0.07362925, 0.14813904, 0.03049199],\n",
              "         [0.03495202, 0.10946183, 0.0013938 ],\n",
              "         [0.01880031, 0.09331012, 0.        ]]], dtype=float32)>,\n",
              " array([False,  True, False]))"
            ]
          },
          "metadata": {},
          "execution_count": 118
        }
      ]
    },
    {
      "cell_type": "code",
      "execution_count": null,
      "metadata": {
        "id": "xYLQol4L3hVp"
      },
      "outputs": [],
      "source": [
        "# Define the batch size, 32 is a good start\n",
        "BATCH_SIZE = 32\n",
        "\n",
        "# Create a function to turn data into batches\n",
        "\n",
        "def create_data_batches(X, y=None, batch_size=BATCH_SIZE, valid_data=False, test_data=False):\n",
        "  \"\"\"\n",
        "  Creates batches of data out of image (X) and label (y) pairs.\n",
        "  Shuffles the data if it's training data but doesn't shfulle if it's validation data.\n",
        "  Also accepts test data as inputs  (no labels).\n",
        "  \"\"\"\n",
        "\n",
        "  # If the data is a test dataset, we know we do not have labels\n",
        "  if test_data:\n",
        "    print(\"Creating test data batches...\")\n",
        "    data = tf.data.Dataset.from_tensor_slices((tf.constant(X))) # only filepaths (no labels)\n",
        "    data_batch = data.map(process_image).batch(batch_size)\n",
        "    return data_batch\n",
        "\n",
        "  elif valid_data:\n",
        "    print(\"Creating validation data batches...\")\n",
        "    data = tf.data.Dataset.from_tensor_slices((tf.constant(X), # filepaths\n",
        "                                              tf.constant(y))) # labels\n",
        "    data_batch = data.map(get_image_label).batch(batch_size)\n",
        "    return data_batch\n",
        "\n",
        "  else:\n",
        "    print(\"Creating training data batches...\")\n",
        "    # Turn filepaths and labels into Tensors\n",
        "    data = tf.data.Dataset.from_tensor_slices((tf.constant(X), # filepaths\n",
        "                                              tf.constant(y))) # labels\n",
        "    # Shuffling pathnames and labels before mapping image processor function is faster than shuffling images\n",
        "    data = data.shuffle(buffer_size=len(X))\n",
        "\n",
        "    # Create (image, label) tuples (this also turns the image path into a preprocessed image)\n",
        "    data = data.map(get_image_label)\n",
        "\n",
        "    # Turn the training data into batches\n",
        "    data_batch =data.batch(batch_size)\n",
        "\n",
        "    return data_batch"
      ]
    },
    {
      "cell_type": "code",
      "execution_count": null,
      "metadata": {
        "id": "IpZrcNKN4Raw",
        "colab": {
          "base_uri": "https://localhost:8080/"
        },
        "outputId": "8581158d-ff64-4b07-be7a-4cb6c3f4dc2f"
      },
      "outputs": [
        {
          "output_type": "stream",
          "name": "stdout",
          "text": [
            "Creating training data batches...\n",
            "Creating training data batches...\n"
          ]
        }
      ],
      "source": [
        "train_data = create_data_batches(X_train, y_train)\n",
        "#val_data = create_data_batches(X_val,y_val)\n",
        "test_data = create_data_batches(X_test,y_test)"
      ]
    },
    {
      "cell_type": "code",
      "source": [
        "# test_data = create_data_batches(X_test,y_test)"
      ],
      "metadata": {
        "id": "VyNvW3VY1ADt"
      },
      "execution_count": null,
      "outputs": []
    },
    {
      "cell_type": "code",
      "execution_count": null,
      "metadata": {
        "id": "9PVUS4TJ7kKV",
        "colab": {
          "base_uri": "https://localhost:8080/"
        },
        "outputId": "796266e8-e711-42d2-e586-fbb7d9dca9a0"
      },
      "outputs": [
        {
          "output_type": "execute_result",
          "data": {
            "text/plain": [
              "(TensorSpec(shape=(None, 224, 224, 3), dtype=tf.float32, name=None),\n",
              " TensorSpec(shape=(None, 3), dtype=tf.bool, name=None))"
            ]
          },
          "metadata": {},
          "execution_count": 101
        }
      ],
      "source": [
        "test_data.element_spec"
      ]
    },
    {
      "cell_type": "code",
      "execution_count": null,
      "metadata": {
        "id": "UXVQo6iS4TLH",
        "colab": {
          "base_uri": "https://localhost:8080/"
        },
        "outputId": "288117b5-33e8-4dcc-f866-b4dc3a46113b"
      },
      "outputs": [
        {
          "output_type": "execute_result",
          "data": {
            "text/plain": [
              "(TensorSpec(shape=(None, 224, 224, 3), dtype=tf.float32, name=None),\n",
              " TensorSpec(shape=(None, 3), dtype=tf.bool, name=None))"
            ]
          },
          "metadata": {},
          "execution_count": 102
        }
      ],
      "source": [
        "train_data.element_spec"
      ]
    },
    {
      "cell_type": "code",
      "execution_count": null,
      "metadata": {
        "id": "qXHuLxc54d1T"
      },
      "outputs": [],
      "source": [
        "INPUT_SHAPE = [None,224, 224, 3] # Batch, height, width, colour channels\n",
        "\n",
        "# Setup output shape of our model\n",
        "OUTPUT_SHAPE = 3\n",
        "MODEL_URL = \"https://tfhub.dev/google/imagenet/mobilenet_v2_130_224/classification/5\""
      ]
    },
    {
      "cell_type": "code",
      "execution_count": null,
      "metadata": {
        "id": "nQ68XtjB5vfH"
      },
      "outputs": [],
      "source": [
        "def create_model(input_shape=INPUT_SHAPE, output_shape= OUTPUT_SHAPE, model_url= MODEL_URL):\n",
        "  \"\"\"\n",
        "  Setup the layers based on TensorFlow Hub, Compiles the model using CategoricalCrossentropy for loss, Adam for optimizing, and accuracy as metric, and finally bulid the model and return it.\n",
        "  \"\"\"\n",
        "\n",
        "  print(\"Building model with:\", model_url)\n",
        "\n",
        "  # Setup the model layers\n",
        "  model = tf.keras.Sequential([\n",
        "          hub.KerasLayer(model_url), # Layer 1 (input layer)\n",
        "          tf.keras.layers.Dense(units = output_shape,\n",
        "                                activation=\"softmax\") # Layer 2 (output layer)\n",
        "  ])\n",
        "\n",
        "  # Compile the model\n",
        "  model.compile(\n",
        "      loss= tf.keras.losses.CategoricalCrossentropy(),\n",
        "      optimizer = tf.keras.optimizers.Adam(),\n",
        "      metrics = [\"accuracy\"]\n",
        "  )\n",
        "\n",
        "  # Bulid the model\n",
        "  model.build(input_shape)\n",
        "\n",
        "  return model"
      ]
    },
    {
      "cell_type": "code",
      "execution_count": null,
      "metadata": {
        "id": "CguXbmEB5zil",
        "colab": {
          "base_uri": "https://localhost:8080/"
        },
        "outputId": "20ccf83f-6cde-4eec-e4ee-b1b63783f50c"
      },
      "outputs": [
        {
          "output_type": "stream",
          "name": "stdout",
          "text": [
            "Building model with: https://tfhub.dev/google/imagenet/mobilenet_v2_130_224/classification/5\n",
            "Model: \"sequential_6\"\n",
            "_________________________________________________________________\n",
            " Layer (type)                Output Shape              Param #   \n",
            "=================================================================\n",
            " keras_layer_6 (KerasLayer)  (None, 1001)              5432713   \n",
            "                                                                 \n",
            " dense_6 (Dense)             (None, 3)                 3006      \n",
            "                                                                 \n",
            "=================================================================\n",
            "Total params: 5,435,719\n",
            "Trainable params: 3,006\n",
            "Non-trainable params: 5,432,713\n",
            "_________________________________________________________________\n"
          ]
        }
      ],
      "source": [
        "\n",
        "model = create_model()\n",
        "model.summary()\n",
        ""
      ]
    },
    {
      "cell_type": "code",
      "source": [
        "test_data.element_spec"
      ],
      "metadata": {
        "colab": {
          "base_uri": "https://localhost:8080/"
        },
        "id": "y12X2-_pV4gV",
        "outputId": "94eb0243-8acb-4217-9af1-e4045be4a6c6"
      },
      "execution_count": null,
      "outputs": [
        {
          "output_type": "execute_result",
          "data": {
            "text/plain": [
              "(TensorSpec(shape=(None, 224, 224, 3), dtype=tf.float32, name=None),\n",
              " TensorSpec(shape=(None, 3), dtype=tf.bool, name=None))"
            ]
          },
          "metadata": {},
          "execution_count": 123
        }
      ]
    },
    {
      "cell_type": "code",
      "execution_count": null,
      "metadata": {
        "id": "hVORjWjX559j"
      },
      "outputs": [],
      "source": [
        "NUM_EPOCHS = 15"
      ]
    },
    {
      "cell_type": "code",
      "execution_count": null,
      "metadata": {
        "id": "ZNqgJrLo-SfN",
        "colab": {
          "base_uri": "https://localhost:8080/"
        },
        "outputId": "6c6d037b-1c6c-4701-d94f-30a3276cc18e"
      },
      "outputs": [
        {
          "output_type": "stream",
          "name": "stdout",
          "text": [
            "The tensorboard extension is already loaded. To reload it, use:\n",
            "  %reload_ext tensorboard\n"
          ]
        }
      ],
      "source": [
        "%load_ext tensorboard\n",
        ""
      ]
    },
    {
      "cell_type": "code",
      "execution_count": null,
      "metadata": {
        "id": "EoErnsxs-eeq"
      },
      "outputs": [],
      "source": [
        "import os"
      ]
    },
    {
      "cell_type": "code",
      "execution_count": null,
      "metadata": {
        "id": "ovHyE7z9-UHH"
      },
      "outputs": [],
      "source": [
        "\n",
        "import datetime\n",
        "\n",
        "# Create a function to bulid a TensorBoard callback\n",
        "def create_tensorboard_callback():\n",
        "  # Create a log directory for storing TensorBoard logs\n",
        "  logdir = os.path.join(\"drive/MyDrive/Dog Vision/logs\",\n",
        "                        # Make it so the logs get tracked whenever we run an experiment\n",
        "                        datetime.datetime.now().strftime(\"%Y%m%d-%H%M%S\"))\n",
        "  return tf.keras.callbacks.TensorBoard(logdir)"
      ]
    },
    {
      "cell_type": "code",
      "execution_count": null,
      "metadata": {
        "id": "LY0RWm8R-T3W"
      },
      "outputs": [],
      "source": [
        "#early_stopping = tf.keras.callbacks.EarlyStopping(monitor=\"val_accuracy\",\n",
        "                                                  #  patience=3)"
      ]
    },
    {
      "cell_type": "code",
      "execution_count": null,
      "metadata": {
        "id": "gp-aCWtL-X3V"
      },
      "outputs": [],
      "source": [
        "\n",
        "# Bulid a function to train and return a trained model\n",
        "def train_model():\n",
        "  \"\"\"\n",
        "  Trains a given model and returns the trained version.\n",
        "  \"\"\"\n",
        "\n",
        "  # Create a model\n",
        "  model = create_model()\n",
        "\n",
        "  # Create new TensorBoard session everytime we train a model\n",
        "  tensorboard = create_tensorboard_callback()\n",
        "\n",
        "  # Fit the model to the data passing it the callbacks we created\n",
        "  model.fit(x = train_data,\n",
        "            epochs = NUM_EPOCHS,\n",
        "            validation_freq=1,\n",
        "            callbacks=[tensorboard])\n",
        "\n",
        "  # Return the fitted model\n",
        "  return model\n",
        ""
      ]
    },
    {
      "cell_type": "code",
      "execution_count": null,
      "metadata": {
        "id": "bHtN1whs6X0e",
        "colab": {
          "base_uri": "https://localhost:8080/"
        },
        "outputId": "0d95c491-6b54-4bbb-9f50-208433ed3c66"
      },
      "outputs": [
        {
          "output_type": "stream",
          "name": "stdout",
          "text": [
            "Building model with: https://tfhub.dev/google/imagenet/mobilenet_v2_130_224/classification/5\n",
            "Epoch 1/15\n",
            "12/12 [==============================] - 50s 4s/step - loss: 1.2697 - accuracy: 0.3793\n",
            "Epoch 2/15\n",
            "12/12 [==============================] - 48s 4s/step - loss: 1.1031 - accuracy: 0.4589\n",
            "Epoch 3/15\n",
            "12/12 [==============================] - 46s 4s/step - loss: 1.0110 - accuracy: 0.5066\n",
            "Epoch 4/15\n",
            "12/12 [==============================] - 46s 4s/step - loss: 0.9526 - accuracy: 0.5438\n",
            "Epoch 5/15\n",
            "12/12 [==============================] - 49s 4s/step - loss: 0.9179 - accuracy: 0.5597\n",
            "Epoch 6/15\n",
            "12/12 [==============================] - 47s 4s/step - loss: 0.8820 - accuracy: 0.5809\n",
            "Epoch 7/15\n",
            "12/12 [==============================] - 47s 4s/step - loss: 0.8500 - accuracy: 0.6313\n",
            "Epoch 8/15\n",
            "12/12 [==============================] - 52s 4s/step - loss: 0.8156 - accuracy: 0.6446\n",
            "Epoch 9/15\n",
            "12/12 [==============================] - 46s 4s/step - loss: 0.7925 - accuracy: 0.6525\n",
            "Epoch 10/15\n",
            "12/12 [==============================] - 47s 4s/step - loss: 0.7646 - accuracy: 0.6684\n",
            "Epoch 11/15\n",
            "12/12 [==============================] - 49s 4s/step - loss: 0.7444 - accuracy: 0.7029\n",
            "Epoch 12/15\n",
            "12/12 [==============================] - 46s 4s/step - loss: 0.7211 - accuracy: 0.7215\n",
            "Epoch 13/15\n",
            "12/12 [==============================] - 47s 4s/step - loss: 0.7140 - accuracy: 0.7135\n",
            "Epoch 14/15\n",
            "12/12 [==============================] - 50s 4s/step - loss: 0.6948 - accuracy: 0.7162\n",
            "Epoch 15/15\n",
            "12/12 [==============================] - 47s 4s/step - loss: 0.6720 - accuracy: 0.7427\n"
          ]
        }
      ],
      "source": [
        "model = train_model()"
      ]
    },
    {
      "cell_type": "code",
      "execution_count": null,
      "metadata": {
        "id": "6Mfx57Gs6d60"
      },
      "outputs": [],
      "source": [
        "\n",
        "accuracy = model.history.history[\"accuracy\"]\n",
        "# val_accuracy =model.history.history[\"val_accuracy\"]"
      ]
    },
    {
      "cell_type": "code",
      "execution_count": null,
      "metadata": {
        "id": "QIFJVNiUBFW0"
      },
      "outputs": [],
      "source": [
        "loss = model.history.history[\"loss\"]\n",
        "# val_loss = model.history.history[\"val_loss\"]"
      ]
    },
    {
      "cell_type": "code",
      "execution_count": null,
      "metadata": {
        "id": "Vw_nwKZNBIgj"
      },
      "outputs": [],
      "source": [
        "import matplotlib.pyplot as plt\n"
      ]
    },
    {
      "cell_type": "code",
      "execution_count": null,
      "metadata": {
        "id": "ChY06laLBK4W",
        "colab": {
          "base_uri": "https://localhost:8080/",
          "height": 449
        },
        "outputId": "8c571535-4bb1-4018-f766-46a419670751"
      },
      "outputs": [
        {
          "output_type": "display_data",
          "data": {
            "text/plain": [
              "<Figure size 640x480 with 1 Axes>"
            ],
            "image/png": "[encoded data removed]"
          },
          "metadata": {}
        }
      ],
      "source": [
        "plt.plot(accuracy, label=\"accuracy\")\n",
        "# plt.plot(val_accuracy, label=\"validation accuracy\")\n",
        "plt.ylabel(\"Accuracy\")\n",
        "plt.xlabel(\"Epoch\")\n",
        "plt.legend()\n",
        "plt.show()"
      ]
    },
    {
      "cell_type": "code",
      "execution_count": null,
      "metadata": {
        "id": "HEHgJwhQBMRQ",
        "colab": {
          "base_uri": "https://localhost:8080/",
          "height": 449
        },
        "outputId": "42e291a4-c565-4514-a764-1ac80c1b14d6"
      },
      "outputs": [
        {
          "output_type": "display_data",
          "data": {
            "text/plain": [
              "<Figure size 640x480 with 1 Axes>"
            ],
            "image/png": "[encoded data removed]"
          },
          "metadata": {}
        }
      ],
      "source": [
        "plt.plot(loss, label=\"loss\")\n",
        "plt.ylabel(\"Loss\")\n",
        "plt.xlabel(\"Epoch\")\n",
        "plt.legend()\n",
        "plt.show()"
      ]
    },
    {
      "cell_type": "code",
      "source": [
        "prediction = model.predict(test_data)"
      ],
      "metadata": {
        "colab": {
          "base_uri": "https://localhost:8080/"
        },
        "id": "oBcLiRhc1M_s",
        "outputId": "c7e2025b-f214-466b-b8bd-977d7fe7481c"
      },
      "execution_count": null,
      "outputs": [
        {
          "output_type": "stream",
          "name": "stdout",
          "text": [
            "2/2 [==============================] - 9s 858ms/step\n"
          ]
        }
      ]
    },
    {
      "cell_type": "code",
      "source": [
        "predicted_labels = np.argmax(prediction, axis=1)\n",
        "len(predicted_labels)"
      ],
      "metadata": {
        "colab": {
          "base_uri": "https://localhost:8080/"
        },
        "id": "8OSXNmFx1Pvd",
        "outputId": "c3c81f04-5ad0-4d82-d7ad-2ae1db829da3"
      },
      "execution_count": null,
      "outputs": [
        {
          "output_type": "execute_result",
          "data": {
            "text/plain": [
              "42"
            ]
          },
          "metadata": {},
          "execution_count": 129
        }
      ]
    },
    {
      "cell_type": "code",
      "source": [
        "print('0-13 are fungal - class 1')\n",
        "print(predicted_labels[:12])\n",
        "print('Accuracy  = ',700/14)"
      ],
      "metadata": {
        "colab": {
          "base_uri": "https://localhost:8080/",
          "height": 227
        },
        "id": "6xaYPX-nWrwB",
        "outputId": "61b65dc7-a91a-4f66-f7dc-f33f0c0f3183"
      },
      "execution_count": 1,
      "outputs": [
        {
          "output_type": "stream",
          "name": "stdout",
          "text": [
            "0-13 are fungal - class 1\n"
          ]
        },
        {
          "output_type": "error",
          "ename": "NameError",
          "evalue": "ignored",
          "traceback": [
            "\u001b[0;31m---------------------------------------------------------------------------\u001b[0m",
            "\u001b[0;31mNameError\u001b[0m                                 Traceback (most recent call last)",
            "\u001b[0;32m<ipython-input-1-e98c39dc958d>\u001b[0m in \u001b[0;36m<cell line: 2>\u001b[0;34m()\u001b[0m\n\u001b[1;32m      1\u001b[0m \u001b[0mprint\u001b[0m\u001b[0;34m(\u001b[0m\u001b[0;34m'0-13 are fungal - class 1'\u001b[0m\u001b[0;34m)\u001b[0m\u001b[0;34m\u001b[0m\u001b[0;34m\u001b[0m\u001b[0m\n\u001b[0;32m----> 2\u001b[0;31m \u001b[0mprint\u001b[0m\u001b[0;34m(\u001b[0m\u001b[0mpredicted_labels\u001b[0m\u001b[0;34m[\u001b[0m\u001b[0;34m:\u001b[0m\u001b[0;36m12\u001b[0m\u001b[0;34m]\u001b[0m\u001b[0;34m)\u001b[0m\u001b[0;34m\u001b[0m\u001b[0;34m\u001b[0m\u001b[0m\n\u001b[0m\u001b[1;32m      3\u001b[0m \u001b[0mprint\u001b[0m\u001b[0;34m(\u001b[0m\u001b[0;34m'Accuracy  = '\u001b[0m\u001b[0;34m,\u001b[0m\u001b[0;36m700\u001b[0m\u001b[0;34m/\u001b[0m\u001b[0;36m14\u001b[0m\u001b[0;34m)\u001b[0m\u001b[0;34m\u001b[0m\u001b[0;34m\u001b[0m\u001b[0m\n",
            "\u001b[0;31mNameError\u001b[0m: name 'predicted_labels' is not defined"
          ]
        }
      ]
    },
    {
      "cell_type": "code",
      "source": [
        "print('14-33 are bacterial - class 0')\n",
        "print(predicted_labels[13:33z])\n",
        "print('Accuracy = ',900/18)"
      ],
      "metadata": {
        "colab": {
          "base_uri": "https://localhost:8080/"
        },
        "id": "Tlg7OMcnW7il",
        "outputId": "e2ad193f-bcb2-4ad3-9f16-7b885b2f80ec"
      },
      "execution_count": null,
      "outputs": [
        {
          "output_type": "stream",
          "name": "stdout",
          "text": [
            "14-33 are bacterial - class 0\n",
            "[1 1 1 1 0 0 0 0 1 2 1 0 1 0 1 2 0 0 0]\n",
            "Accuracy =  50.0\n"
          ]
        }
      ]
    },
    {
      "cell_type": "code",
      "source": [
        "print('33-42 are healthy - class 2')\n",
        "print(predicted_labels[34:])\n",
        "print('Accuracy = ',100/8)"
      ],
      "metadata": {
        "colab": {
          "base_uri": "https://localhost:8080/"
        },
        "id": "iFcrr9ZoXq-2",
        "outputId": "2c92502b-f814-482d-839c-0014cf8124a3"
      },
      "execution_count": null,
      "outputs": [
        {
          "output_type": "stream",
          "name": "stdout",
          "text": [
            "33-42 are healthy - class 2\n",
            "[0 1 0 0 2 1 1 0]\n",
            "Accuracy =  12.5\n"
          ]
        }
      ]
    },
    {
      "cell_type": "code",
      "source": [],
      "metadata": {
        "id": "xxbyVH4xX0Ca"
      },
      "execution_count": null,
      "outputs": []
    }
  ],
  "metadata": {
    "colab": {
      "provenance": []
    },
    "kernelspec": {
      "display_name": "Python 3",
      "name": "python3"
    },
    "language_info": {
      "name": "python"
    }
  },
  "nbformat": 4,
  "nbformat_minor": 0
}